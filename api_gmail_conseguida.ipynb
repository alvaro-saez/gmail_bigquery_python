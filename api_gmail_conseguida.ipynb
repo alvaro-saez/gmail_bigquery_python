{
 "cells": [
  {
   "cell_type": "code",
   "execution_count": 26,
   "id": "3589bdba-a295-445b-92ed-5bd72311b7bb",
   "metadata": {},
   "outputs": [],
   "source": [
    "import os.path \n",
    "\n",
    "from google.oauth2.credentials import Credentials\n",
    "from google_auth_oauthlib.flow import InstalledAppFlow\n",
    "from google.auth.transport.requests import Request\n",
    "from googleapiclient.discovery import build\n",
    "from googleapiclient.errors import HttpError\n",
    "\n",
    "import pickle \n",
    "\n",
    "import base64 \n",
    "import email \n",
    "from bs4 import BeautifulSoup\n",
    "import csv\n",
    "\n",
    "import gspread\n",
    "from google.oauth2.service_account import Credentials"
   ]
  },
  {
   "cell_type": "code",
   "execution_count": 2,
   "id": "9b449063-3c11-44f1-b60c-2c44c373b80e",
   "metadata": {},
   "outputs": [],
   "source": [
    "SCOPES = [\"https://www.googleapis.com/auth/gmail.send\",'https://www.googleapis.com/auth/gmail.readonly','https://mail.google.com/', \"https://www.googleapis.com/auth/gmail.metadata\", \"https://www.googleapis.com/auth/gmail.modify\"]\n",
    "client_secret_file = './credenciales/client_secret_python_gmail.json'"
   ]
  },
  {
   "cell_type": "markdown",
   "id": "9ef9ff5c-9d44-4138-9cbb-0343e32ccc80",
   "metadata": {},
   "source": [
    "## conexion"
   ]
  },
  {
   "cell_type": "code",
   "execution_count": 3,
   "id": "fff4a428-3b9a-44a3-9fd7-6a9626f02b25",
   "metadata": {},
   "outputs": [],
   "source": [
    "creds = None\n",
    "  \n",
    "# The file token.pickle contains the user access token. \n",
    "# Check if it exists \n",
    "if os.path.exists('token.pickle'): \n",
    "  \n",
    "    # Read the token from the file and store it in the variable creds \n",
    "    with open('token.pickle', 'rb') as token: \n",
    "        creds = pickle.load(token) \n",
    "  \n",
    "# If credentials are not available or are invalid, ask the user to log in. \n",
    "if not creds or not creds.valid: \n",
    "    if creds and creds.expired and creds.refresh_token: \n",
    "        creds.refresh(Request()) \n",
    "    else: \n",
    "        flow = InstalledAppFlow.from_client_secrets_file(client_secret_file, SCOPES) \n",
    "        creds = flow.run_local_server(port=0) \n",
    "  \n",
    "    # Save the access token in token.pickle file for the next run \n",
    "    with open('token.pickle', 'wb') as token: \n",
    "        pickle.dump(creds, token) \n",
    "  \n",
    "# Connect to the Gmail API \n",
    "service = build('gmail', 'v1', credentials=creds) "
   ]
  },
  {
   "cell_type": "markdown",
   "id": "6671572b-26a5-4205-8f65-47a186787a50",
   "metadata": {},
   "source": [
    "## requests"
   ]
  },
  {
   "cell_type": "markdown",
   "id": "64d0a16c-2138-4991-a9e3-e3a607319694",
   "metadata": {},
   "source": [
    "#### Ver las etiquetas (LABELS)"
   ]
  },
  {
   "cell_type": "code",
   "execution_count": 140,
   "id": "1da5589f-63ed-49c3-8873-d3b07f848255",
   "metadata": {},
   "outputs": [
    {
     "data": {
      "text/plain": [
       "{'id': 'CHAT',\n",
       " 'name': 'CHAT',\n",
       " 'messageListVisibility': 'hide',\n",
       " 'labelListVisibility': 'labelHide',\n",
       " 'type': 'system'}"
      ]
     },
     "execution_count": 140,
     "metadata": {},
     "output_type": "execute_result"
    }
   ],
   "source": [
    "results_labels = service.users().labels().list(userId=\"me\").execute().get(\"labels\")\n",
    "results_labels[0]"
   ]
  },
  {
   "cell_type": "markdown",
   "id": "269bcbb6-b343-4dfe-ad38-e413766dc78a",
   "metadata": {},
   "source": [
    "#### TODO EL LISTADO"
   ]
  },
  {
   "cell_type": "code",
   "execution_count": 144,
   "id": "56785f72-1bd7-4278-a7c6-0f9a9aaa7152",
   "metadata": {},
   "outputs": [
    {
     "data": {
      "text/plain": [
       "{'id': '18c1bdc54cf53ce2', 'threadId': '18c1bdc54cf53ce2'}"
      ]
     },
     "execution_count": 144,
     "metadata": {},
     "output_type": "execute_result"
    }
   ],
   "source": [
    "# request a list of all the messages \n",
    "emailIdList = service.users().messages().list(userId='me').execute().get('messages')\n",
    "emailIdList[0]"
   ]
  },
  {
   "cell_type": "code",
   "execution_count": 147,
   "id": "82b5cbbb-4bb1-474a-9dc3-58c33caccde1",
   "metadata": {},
   "outputs": [
    {
     "data": {
      "text/plain": [
       "{'id': '18ba50e6e973b662',\n",
       " 'threadId': '18ba50e6e973b662',\n",
       " 'labelIds': ['IMPORTANT', 'CATEGORY_UPDATES', 'INBOX'],\n",
       " 'snippet': 'Hi Álvaro, I&#39;m reaching out with an exciting opportunity to join an AI start-up who are building real-time intelligence so businesses can make informed decisions. They have recently gained VC',\n",
       " 'payload': {'partId': '',\n",
       "  'mimeType': 'multipart/alternative',\n",
       "  'filename': '',\n",
       "  'headers': [{'name': 'Delivered-To', 'value': 'alvarosaezsanchez@gmail.com'},\n",
       "   {'name': 'Received',\n",
       "    'value': 'by 2002:a05:7010:934b:b0:393:73cd:86f8 with SMTP id s11csp2649792mdk;        Mon, 6 Nov 2023 06:34:28 -0800 (PST)'},\n",
       "   {'name': 'X-Google-Smtp-Source',\n",
       "    'value': 'AGHT+IH9VreP1zpuaubafB7jrxQ8Ii+NqnfCIvjvq1F1QL6VSbp0kpQGr770v9DsP31esPUNYqXf'},\n",
       "   {'name': 'X-Received',\n",
       "    'value': 'by 2002:a92:cd88:0:b0:350:f2a0:5c44 with SMTP id r8-20020a92cd88000000b00350f2a05c44mr38554103ilb.2.1699281268597;        Mon, 06 Nov 2023 06:34:28 -0800 (PST)'},\n",
       "   {'name': 'ARC-Seal',\n",
       "    'value': 'i=1; a=rsa-sha256; t=1699281268; cv=none;        d=google.com; s=arc-20160816;        b=l4rjpF0Lo4r4rZ/90W8oO8E3PGtbtMaR7pFmuYhhWUMY4tEoThWWX9qPKnMQ5O/8iu         mzU2IfUf3zml5G6SYHIbm80nJ3+YLMV5uTm6nCdzE2zlosoXg69Is9pq7aUIsjxTmU+2         pFz4qsSVw4427ya+d8XT1bsVk7okwExxbW7dMw5mFQ9b9nL77pWC8EQuURLvm3oJfPli         HBt89rFn2IkeEqJCAOVztQibII/2xb5BWPX77fcuK+hONtsWENqaojFTG+WLY7fNXZcb         fhkj14Y+p9mROn2mD8OvLqoiKdgP7S794z94n0hGPW0RpckhBw4rGlb6SqlRF0hJTP9W         O4ng=='},\n",
       "   {'name': 'ARC-Message-Signature',\n",
       "    'value': 'i=1; a=rsa-sha256; c=relaxed/relaxed; d=google.com; s=arc-20160816;        h=require-recipient-valid-since:feedback-id:reply-to:list-unsubscribe         :date:to:mime-version:subject:message-id:from:dkim-signature         :dkim-signature;        bh=MZoUalfMVcULUDXKp39dXL2di+9LA8z6mWZiwfMUNiw=;        fh=HgGlKlIVqB5r3Z46GUbBKCbdHlUHhwvnaRYo5FFdJdI=;        b=qVHh9XibhlZn0gsFFIfEqwFiY9grs27L2fxjNZhfrrw5mCEYBBFc8O9p3Vo1/AMfT5         3vOdiQPC3e4bHKdRo5dPFcHv9iQIfMtdSdJbvFAo558kANzNcSnB68awtK1tQq8C2oLl         HYqzfrIt9Hr3ZkNRbGUZUk7GFGVxNIY1ACvJ/90TfGhXvhpRqCQ+T1hWZlx4N6oqeBD3         BTwMEFgh8DZSn2nTOqU7wT+C8eNJV+wNWEmcITitlg3P0h8cEwabjQHHuFdXcwj99vB/         U8qjQyB/5KzcEqFjLWSJElZOaVL35qzMyQwAWGbpSMmuLWuEEwi1mj4Bop6kMKkiR+/Q         oPSg=='},\n",
       "   {'name': 'ARC-Authentication-Results',\n",
       "    'value': 'i=1; mx.google.com;       dkim=pass header.i=@mailb.linkedin.com header.s=d2048-202308-0b header.b=X0Yzi5QE;       dkim=pass header.i=@linkedin.com header.s=d2048-202308-00 header.b=wvwjkCVh;       spf=pass (google.com: domain of s-4xe2ps0gyad8mw3q7yok6gypip5g420qax8dw6yly0afw1m41znbiecz@bounce.linkedin.com designates 108.174.6.149 as permitted sender) smtp.mailfrom=s-4xe2ps0gyad8mw3q7yok6gypip5g420qax8dw6yly0afw1m41znbiecz@bounce.linkedin.com;       dmarc=pass (p=REJECT sp=REJECT dis=NONE) header.from=linkedin.com'},\n",
       "   {'name': 'Return-Path',\n",
       "    'value': '<s-4xe2ps0gyad8mw3q7yok6gypip5g420qax8dw6yly0afw1m41znbiecz@bounce.linkedin.com>'},\n",
       "   {'name': 'Received',\n",
       "    'value': 'from mailb-ce.linkedin.com (mailb-ce.linkedin.com. [108.174.6.149])        by mx.google.com with ESMTPS id e3-20020a656bc3000000b0055c1760dd8esi9386294pgw.380.2023.11.06.06.34.28        for <alvarosaezsanchez@gmail.com>        (version=TLS1_2 cipher=ECDHE-ECDSA-AES128-GCM-SHA256 bits=128/128);        Mon, 06 Nov 2023 06:34:28 -0800 (PST)'},\n",
       "   {'name': 'Received-SPF',\n",
       "    'value': 'pass (google.com: domain of s-4xe2ps0gyad8mw3q7yok6gypip5g420qax8dw6yly0afw1m41znbiecz@bounce.linkedin.com designates 108.174.6.149 as permitted sender) client-ip=108.174.6.149;'},\n",
       "   {'name': 'Authentication-Results',\n",
       "    'value': 'mx.google.com;       dkim=pass header.i=@mailb.linkedin.com header.s=d2048-202308-0b header.b=X0Yzi5QE;       dkim=pass header.i=@linkedin.com header.s=d2048-202308-00 header.b=wvwjkCVh;       spf=pass (google.com: domain of s-4xe2ps0gyad8mw3q7yok6gypip5g420qax8dw6yly0afw1m41znbiecz@bounce.linkedin.com designates 108.174.6.149 as permitted sender) smtp.mailfrom=s-4xe2ps0gyad8mw3q7yok6gypip5g420qax8dw6yly0afw1m41znbiecz@bounce.linkedin.com;       dmarc=pass (p=REJECT sp=REJECT dis=NONE) header.from=linkedin.com'},\n",
       "   {'name': 'DKIM-Signature',\n",
       "    'value': 'v=1; a=rsa-sha256; c=relaxed/relaxed; d=mailb.linkedin.com; s=d2048-202308-0b; t=1699281265; bh=MZoUalfMVcULUDXKp39dXL2di+9LA8z6mWZiwfMUNiw=; h=From:Subject:MIME-Version:Content-Type:To:Date:X-LinkedIn-Class:\\t X-LinkedIn-Template:X-LinkedIn-fbl; b=X0Yzi5QEcZptGHbdxGlDX0tuIw3xmZVjkqlmMfOJlSJCZnLaHG7t3I/POAnh154Uo\\t 7Le7wn3CfrHIXra+FkjoVXzqqmI8j4tvfK+oYRi7D5usGoNat1I4OaUwX15hefIBfI\\t RQ+CsE/VM0yy2MGqFbkJJDVhcS3Dj+gcDbQCqwz6Xk7ajH4+SGbnJ9fqt6wyWQRZpl\\t G6xeTSHd3nihQS3DFjHrHmnhJ+YCNFEkWCkYH8I+2kLZO3MyvNyaYyvTexXfkFKJ64\\t aZtpvFGQmJ2h06LIEF0uLBRvnfE2TXkDbm8y0K56/uT8ohpKiwXulr2QrJMnyBKz6f\\t F6ZHQU7xbapfA=='},\n",
       "   {'name': 'DKIM-Signature',\n",
       "    'value': 'v=1; a=rsa-sha256; c=relaxed/relaxed; d=linkedin.com; s=d2048-202308-00; t=1699281265; bh=MZoUalfMVcULUDXKp39dXL2di+9LA8z6mWZiwfMUNiw=; h=From:Subject:MIME-Version:Content-Type:To:Date:X-LinkedIn-Class:\\t X-LinkedIn-Template:X-LinkedIn-fbl; b=wvwjkCVhUERiyFUme6m5wRrULb0uvSpeRTcPyj9U4laIyGM1NkrYT3MjjWeo9a5KJ\\t dcYPdXLYBjV3IJeGEHgsByQ6KesJFbjGjGNG24/CI80ZSk+P09Iq2cLCajuLCJq8Hn\\t aKVdBKUWo4WaiGYEQ82wjh3c/TCRNvCXPmDCXaSstKMEfLDoMGz4cZAPjMMQlwWkuO\\t 5UmUHn9GNjyiwSkWA/FTKTp4kdywWA6go9cquxh3rUJOk/oApCmrLnQOLCzJOjzraI\\t q/fHMCFTEIBW8yUUwoOsNI/Oqh+I6Y0vFo+zuZuPLCZI2q5mEn6/ONIx5SztOl6t/x\\t dEdzT2IdrqPKg=='},\n",
       "   {'name': 'From',\n",
       "    'value': 'Jessica Gormally <inmail-hit-reply@linkedin.com>'},\n",
       "   {'name': 'Message-ID',\n",
       "    'value': '<822407970.22245071.1699281264996@ltx1-app110162.prod.linkedin.com>'},\n",
       "   {'name': 'Subject', 'value': 'Analytics Engineer - VC backed AI scale up'},\n",
       "   {'name': 'MIME-Version', 'value': '1.0'},\n",
       "   {'name': 'Content-Type',\n",
       "    'value': 'multipart/alternative; boundary=\"----=_Part_22245069_1873252108.1699281264990\"'},\n",
       "   {'name': 'To',\n",
       "    'value': '\"Álvaro Sáez Sánchez\" <alvarosaezsanchez@gmail.com>'},\n",
       "   {'name': 'Date', 'value': 'Mon, 6 Nov 2023 14:34:24 +0000 (UTC)'},\n",
       "   {'name': 'X-LinkedIn-Class', 'value': 'INMAIL'},\n",
       "   {'name': 'X-LinkedIn-Template',\n",
       "    'value': 'email_hire_inmail_initial_single_01'},\n",
       "   {'name': 'X-LinkedIn-fbl',\n",
       "    'value': 'm2-aszt7ga4nfhjct3ehymyere8blpraj8glf5eyh2fbq8f4s1vez02nv3e216hq0r5so9cle6lqgj0afob3iwxqnbvt0g9pgvo543add'},\n",
       "   {'name': 'X-LinkedIn-Id', 'value': '4bs0e6-lon01ade-nd'},\n",
       "   {'name': 'List-Unsubscribe',\n",
       "    'value': '<https://www.linkedin.com/e/v2?e=4bs0e6-lon01ade-nd&t=lun&midToken=AQERqBz4rH0M9A&midSig=00gR6pDhFa9H01&ek=email_hire_inmail_initial_single_01&loid=AQFmq8HsAAZH7QAAAYulDmFNbdNUkw5GFnWuvncpJcOBOAanx8o34xx_cNpHd0evjiY2GAIfadAR1RW-Odz4L-AytfXJhDqx5V-uvSELkjs&eid=4bs0e6-lon01ade-nd>'},\n",
       "   {'name': 'Reply-To',\n",
       "    'value': 'Jessica Gormally <b7544532-5542-468b-a2f4-28a0a6966681@reply.linkedin.com>'},\n",
       "   {'name': 'Feedback-ID',\n",
       "    'value': 'email_hire_inmail_initial_single_01:linkedin'},\n",
       "   {'name': 'Require-Recipient-Valid-Since',\n",
       "    'value': 'alvarosaezsanchez@gmail.com; Thu, 6 Jun 2013 17:00:58 +0000'}],\n",
       "  'body': {'size': 0},\n",
       "  'parts': [{'partId': '0',\n",
       "    'mimeType': 'text/plain',\n",
       "    'filename': '',\n",
       "    'headers': [{'name': 'Content-Type', 'value': 'text/plain;charset=UTF-8'},\n",
       "     {'name': 'Content-Transfer-Encoding', 'value': 'quoted-printable'},\n",
       "     {'name': 'Content-ID', 'value': 'text-body'}],\n",
       "    'body': {'size': 3152,\n",
       "     'data': 'SGkgJiN4YzE7bHZhcm8sPGJyPg0KIDxicj4NCkkmIzM5O20gcmVhY2hpbmcgb3V0IHdpdGggYW4gZXhjaXRpbmcgb3Bwb3J0dW5pdHkgdG8gam9pbiBhbiBBSSBzdGFydC11cCB3aG8gYXJlIGJ1aWxkaW5nIHJlYWwtdGltZSBpbnRlbGxpZ2VuY2Ugc28gYnVzaW5lc3NlcyBjYW4gbWFrZSBpbmZvcm1lZCBkZWNpc2lvbnMuIFRoZXkgaGF2ZSByZWNlbnRseSBnYWluZWQgVkMgZnVuZGluZyBhbmQgdG8gaGVscCB0aGVtIHJlYWNoIG1vcmUgcGVvcGxlLCB0aGV5IG5lZWQgcGFzc2lvbmF0ZSBBbmFseXRpY3MgRW5naW5lZXJzIGxpa2UgeW91cnNlbGYhIDxicj4NCiA8YnI-DQpUaGV5IGFyZSBlbWJhcmtpbmcgYSBwZXJpb2Qgb2YgYWdncmVzc2l2ZSBncm93dGggYW5kIHdpbGwgYmUgbG9va2luZyB0byBoaXJlIG11bHRpcGxlIEFuYWx5dGljcyBhbmQgRGF0YSBFbmdpbmVlcnMgYXQgdmFyaW91cyBsZXZlbHMgLSBmcm9tIGp1bmlvciB0byBwcmluY2lwYWwuIEV2ZXJ5IG5ldyBtZW1iZXIgb2YgdGhlIHRlYW0gd2lsbCBiZSBhZGRpbmcgYSB1bmlxdWUgc2tpbGxzZXQgYW5kIHdpbGwgYmUgZW5yaWNoaW5nIHRoZSB0ZWFtJiMzOTtzIGNhcGFiaWxpdGllcywgZ2V0dGluZyB0aGVtIG9uZSBzdGVwIGNsb3NlciB0byB0aGVpciB2aXNpb24gb2YgdXNpbmcgQUkgdG8gcHJvdmlkZSBpbXBhY3RmdWwgYnVzaW5lc3MgdHJhbnNmb3JtYXRpb24uIDxicj4NCiA8YnI-DQpBbmFseXRpY3MgRW5naW5lZXIgdHJhbnNmb3JtLCB0ZXN0LCBkZXBsb3kgYW5kIGRvY3VtZW50IGNsaWVudCBkYXRhLCBhcyB3ZWxsIGFzIGFwcGx5IHNvZnR3YXJlIGVuZ2luZWVyaW5nIGJlc3QgcHJhY3RpY2VzIHRvIGFuYWx5dGljcyBjb2RlIChzdWNoIGFzIENJL0NELCB0ZXN0aW5nLCBldGMpLiBUaGV5IHRyYW5zZm9ybSByYXcgY2xpZW50IGRhdGEgaW50byBhIHNoYXBlIHRoYXQmI3gyMDE5O3MgcmVhZHkgZm9yIGFuYWx5dGljcyB1c2luZyBkYXRhIG1vZGVsbGluZyBhbmQgZGF0YWJhc2UgYXJjaGl0ZWN0dXJlIHNraWxscy4gPGJyPg0KIDxicj4NCkkmIzM5O20ga2VlbiB0byB0ZWxsIHlvdSBtb3JlLCBzbyBsZXQgbWUga25vdyBpZiB5b3UmIzM5O2QgYmUgb3BlbiB0byBhIGNvbmZpZGVudGlhbCBjaGF0LiBJZiB5b3UmIzM5O3JlIG1vcmUgYWxpZ25lZCB0byBEYXRhIEVuZ2luZWVyaW5nICYjeGMxO2x2YXJvLCBwbGVhc2UgbGV0IG1lIGtub3csIGFzIHRoZSBidXNpbmVzcyBpcyBsb29raW5nIHRvIGhpcmUgY2lyY2EgNSBEYXRhIEVuZ2luZWVycyBhcyB3ZWxsLjxicj4NCjxicj4NCkxldCBtZSBrbm93IHlvdXIgdGhvdWdodHMgYW5kIHdlIGNhbiBzZXQgdXAgYW4gaW5pdGlhbCBjaGF0LDxicj4NCkplc3M8YnI-DQo8YnI-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'}},\n",
       "   {'partId': '1',\n",
       "    'mimeType': 'text/html',\n",
       "    'filename': '',\n",
       "    'headers': [{'name': 'Content-Type', 'value': 'text/html;charset=UTF-8'},\n",
       "     {'name': 'Content-Transfer-Encoding', 'value': 'quoted-printable'},\n",
       "     {'name': 'Content-ID', 'value': 'html-body'}],\n",
       "    'body': {'size': 10098,\n",
       "     'data': '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'}}]},\n",
       " 'sizeEstimate': 20681,\n",
       " 'historyId': '5993388',\n",
       " 'internalDate': '1699281264000'}"
      ]
     },
     "execution_count": 147,
     "metadata": {},
     "output_type": "execute_result"
    }
   ],
   "source": [
    "for email_ids in emailIdList: \n",
    "    # Get the message from its id \n",
    "    email_parts = service.users().messages().get(userId='me', id=email_ids['id']).execute()"
   ]
  },
  {
   "cell_type": "code",
   "execution_count": 154,
   "id": "86d139a5-8c77-4ed2-a639-2a0c1e729cb3",
   "metadata": {},
   "outputs": [
    {
     "data": {
      "text/plain": [
       "['IMPORTANT', 'CATEGORY_UPDATES', 'INBOX']"
      ]
     },
     "execution_count": 154,
     "metadata": {},
     "output_type": "execute_result"
    }
   ],
   "source": [
    "email_parts[\"labelIds\"]"
   ]
  },
  {
   "cell_type": "markdown",
   "id": "c0f79ffc-a5f3-448e-9f9d-72ac94ebf2a1",
   "metadata": {},
   "source": [
    "#### POR TITULO"
   ]
  },
  {
   "cell_type": "code",
   "execution_count": 135,
   "id": "bf956ab5-b028-4070-835d-f5637713d1b5",
   "metadata": {},
   "outputs": [],
   "source": [
    "emailIdList_filter_by_title = service.users().messages().list(userId='me', q=f'subject:test gmail csv').execute().get('messages')"
   ]
  },
  {
   "cell_type": "code",
   "execution_count": 136,
   "id": "c7c80afa-e08d-4d76-8749-69f6e8e563d2",
   "metadata": {},
   "outputs": [],
   "source": [
    "for email_ids in emailIdList_filter_by_title: \n",
    "    # Get the message from its id \n",
    "    email_parts = service.users().messages().get(userId='me', id=email_ids['id']).execute()"
   ]
  },
  {
   "cell_type": "markdown",
   "id": "8c94183a-565d-4fcd-97ae-47a2844d3794",
   "metadata": {},
   "source": [
    "### obtener campos del email"
   ]
  },
  {
   "cell_type": "markdown",
   "id": "a642bd32-e7c9-48ce-8144-02399f3831d9",
   "metadata": {},
   "source": [
    "##### Queries para poner dentro del method list (como en el siguiente ejemplo de subject):\n",
    "  - subject:\n",
    "  - from:\n",
    "  - to:\n",
    "  - cc:\n",
    "  - bcc:\n",
    "  - label:\n",
    "  - has:attachment\n",
    "  - has:drive\n",
    "  - has:document\n",
    "  - has:spreadsheet\n",
    "  - has:presentation\n",
    "  - filename:\n",
    "  - newer_than:2d\n",
    "  - deliveredto:\n",
    "  - OR or { }: --> from:amy OR from:david\n",
    "\n",
    "https://support.google.com/mail/answer/7190?hl=en    --> All the terms and REGEXtation"
   ]
  },
  {
   "cell_type": "code",
   "execution_count": 128,
   "id": "63855d11-77f1-4ce0-a624-6e41084649ab",
   "metadata": {},
   "outputs": [],
   "source": [
    "emailIdList_filter_by_title = service.users().messages().list(userId='me', q=f'subject:test gmail csv').execute().get('messages')"
   ]
  },
  {
   "cell_type": "code",
   "execution_count": 129,
   "id": "55ffe7e1-a297-4080-9f1e-ca95692f46c6",
   "metadata": {},
   "outputs": [],
   "source": [
    "for email_ids in emailIdList_filter_by_title: \n",
    "    # Get the message from its id \n",
    "    email_parts = service.users().messages().get(userId='me', id=email_ids['id']).execute()\n",
    "    email_field_from = [name['value'] for name in email_parts['payload']['headers'] if name['name'] == 'From']\n",
    "    email_field_to = [name['value'] for name in email_parts['payload']['headers'] if name['name'] == 'To']\n",
    "    email_field_subject = [name['value'] for name in email_parts['payload']['headers'] if name['name'] == 'Subject']\n",
    "    email_field_date = [name['value'] for name in email_parts['payload']['headers'] if name['name'] == 'Date'] "
   ]
  },
  {
   "cell_type": "code",
   "execution_count": 130,
   "id": "0459c199-fd6f-460b-bf54-ad12aa88ea35",
   "metadata": {},
   "outputs": [
    {
     "data": {
      "text/plain": [
       "['Wed, 29 Nov 2023 12:47:52 +0100']"
      ]
     },
     "execution_count": 130,
     "metadata": {},
     "output_type": "execute_result"
    }
   ],
   "source": [
    "email_field_date"
   ]
  },
  {
   "cell_type": "code",
   "execution_count": 131,
   "id": "2758abb3-94f4-4f21-93c8-4e49119bc238",
   "metadata": {},
   "outputs": [
    {
     "data": {
      "text/plain": [
       "['Alv Sz <alvarosaezsanchez@gmail.com>']"
      ]
     },
     "execution_count": 131,
     "metadata": {},
     "output_type": "execute_result"
    }
   ],
   "source": [
    "email_field_from"
   ]
  },
  {
   "cell_type": "markdown",
   "id": "2bbe9604-fc41-40bf-8d28-70639a64cc2f",
   "metadata": {},
   "source": [
    "### adjuntos"
   ]
  },
  {
   "cell_type": "code",
   "execution_count": 173,
   "id": "01acd3ea-0056-4d65-a512-ab2b5e62ddb9",
   "metadata": {},
   "outputs": [],
   "source": [
    "emailIdList_filter_by_title = service.users().messages().list(userId='me', q=f'subject:test gmail excel').execute().get('messages')"
   ]
  },
  {
   "cell_type": "code",
   "execution_count": 174,
   "id": "29c2e47a-9edd-4d02-a377-b1e0afe4c2f3",
   "metadata": {},
   "outputs": [],
   "source": [
    "for email_ids in emailIdList_filter_by_title: \n",
    "    email_parts = service.users().messages().get(userId='me', id=email_ids['id']).execute()"
   ]
  },
  {
   "cell_type": "code",
   "execution_count": 186,
   "id": "889a5d75-bc9b-4dc1-8c77-21438e3ff8fe",
   "metadata": {},
   "outputs": [
    {
     "name": "stdout",
     "output_type": "stream",
     "text": [
      "{'partId': '1', 'mimeType': 'application/vnd.openxmlformats-officedocument.spreadsheetml.sheet', 'filename': 'GEO_IP_1_comb (1).xlsx', 'headers': [{'name': 'Content-Type', 'value': 'application/vnd.openxmlformats-officedocument.spreadsheetml.sheet; name=\"GEO_IP_1_comb (1).xlsx\"'}, {'name': 'Content-Disposition', 'value': 'attachment; filename=\"GEO_IP_1_comb (1).xlsx\"'}, {'name': 'Content-Transfer-Encoding', 'value': 'base64'}, {'name': 'X-Attachment-Id', 'value': 'f_lpk0230b0'}, {'name': 'Content-ID', 'value': '<f_lpk0230b0>'}], 'body': {'attachmentId': 'ANGjdJ893tXsXNHHfcbipbGkW-YV5BjCWd5tLB6ZDxivHqzGNF-aQ_XdUhybfdZDNQMIlLGK6hqOaF3Rbl3eZ8wxp8I9a2bQU1-uysG-fsZ9Utz6csm0jMQKTo-rG2Z8Wds0lY1frVr1yWmmoinsWLDx04BV-BXEQbxWCyb0JcJW1pQ31qJmQcdnSV6oD9mUY3aSEh_5eXKT-x4RRAwsmoSH-RsCfq-laTpK2lFlXqFmOMALgRLhAimYq8OKPw6vBxoxv-YQrfpbhJmIbKlB2_tdzmn16zZp4T20Aowjw7tpKaYJBTP69HYulIg3lp4', 'size': 16620}}\n"
     ]
    },
    {
     "ename": "KeyError",
     "evalue": "'data'",
     "output_type": "error",
     "traceback": [
      "\u001b[1;31m---------------------------------------------------------------------------\u001b[0m",
      "\u001b[1;31mKeyError\u001b[0m                                  Traceback (most recent call last)",
      "Cell \u001b[1;32mIn[186], line 5\u001b[0m\n\u001b[0;32m      3\u001b[0m \u001b[38;5;28mprint\u001b[39m(part)\n\u001b[0;32m      4\u001b[0m \u001b[38;5;66;03m# Decodificar el contenido del archivo adjunto\u001b[39;00m\n\u001b[1;32m----> 5\u001b[0m file_data \u001b[38;5;241m=\u001b[39m base64\u001b[38;5;241m.\u001b[39murlsafe_b64decode(\u001b[43mpart\u001b[49m\u001b[43m[\u001b[49m\u001b[38;5;124;43m'\u001b[39;49m\u001b[38;5;124;43mbody\u001b[39;49m\u001b[38;5;124;43m'\u001b[39;49m\u001b[43m]\u001b[49m\u001b[43m[\u001b[49m\u001b[38;5;124;43m'\u001b[39;49m\u001b[38;5;124;43mdata\u001b[39;49m\u001b[38;5;124;43m'\u001b[39;49m\u001b[43m]\u001b[49m)\n\u001b[0;32m      7\u001b[0m \u001b[38;5;66;03m# Guardar el archivo en el sistema local con la extensión correcta (por ejemplo, '.xlsx' para Excel)\u001b[39;00m\n\u001b[0;32m      8\u001b[0m file_name \u001b[38;5;241m=\u001b[39m part[\u001b[38;5;124m'\u001b[39m\u001b[38;5;124mfilename\u001b[39m\u001b[38;5;124m'\u001b[39m]\n",
      "\u001b[1;31mKeyError\u001b[0m: 'data'"
     ]
    }
   ],
   "source": [
    "for part in email_parts['payload']['parts']:\n",
    "    if part['filename'] == \"GEO_IP_1_comb (1).xlsx\":\n",
    "        print(part)\n",
    "        # Decodificar el contenido del archivo adjunto\n",
    "        file_data = base64.urlsafe_b64decode(part['body']['data'])\n",
    "\n",
    "        # Guardar el archivo en el sistema local con la extensión correcta (por ejemplo, '.xlsx' para Excel)\n",
    "        file_name = part['filename']\n",
    "        if not file_name.endswith('.xlsx'):\n",
    "            file_name += '.xlsx'\n",
    "\n",
    "        with open(file_name, 'wb') as f:\n",
    "            f.write(file_data)\n",
    "\n",
    "print(f\"El archivo {file_name} se ha descargado exitosamente.\")"
   ]
  },
  {
   "cell_type": "markdown",
   "id": "b94faa74-fb67-4343-b5ad-7ea99fdf7a7b",
   "metadata": {},
   "source": [
    "#### escrapear todo el texto del email"
   ]
  },
  {
   "cell_type": "code",
   "execution_count": 161,
   "id": "79578391-129d-4b06-b95a-3872f1093751",
   "metadata": {},
   "outputs": [
    {
     "ename": "KeyError",
     "evalue": "'data'",
     "output_type": "error",
     "traceback": [
      "\u001b[1;31m---------------------------------------------------------------------------\u001b[0m",
      "\u001b[1;31mKeyError\u001b[0m                                  Traceback (most recent call last)",
      "Cell \u001b[1;32mIn[161], line 20\u001b[0m\n\u001b[0;32m     17\u001b[0m \u001b[38;5;66;03m# The Body of the message is in Encrypted format. So, we have to decode it. \u001b[39;00m\n\u001b[0;32m     18\u001b[0m \u001b[38;5;66;03m# Get the data and decode it with base 64 decoder. \u001b[39;00m\n\u001b[0;32m     19\u001b[0m parts \u001b[38;5;241m=\u001b[39m payload\u001b[38;5;241m.\u001b[39mget(\u001b[38;5;124m'\u001b[39m\u001b[38;5;124mparts\u001b[39m\u001b[38;5;124m'\u001b[39m)[\u001b[38;5;241m0\u001b[39m] \n\u001b[1;32m---> 20\u001b[0m data \u001b[38;5;241m=\u001b[39m \u001b[43mparts\u001b[49m\u001b[43m[\u001b[49m\u001b[38;5;124;43m'\u001b[39;49m\u001b[38;5;124;43mbody\u001b[39;49m\u001b[38;5;124;43m'\u001b[39;49m\u001b[43m]\u001b[49m\u001b[43m[\u001b[49m\u001b[38;5;124;43m'\u001b[39;49m\u001b[38;5;124;43mdata\u001b[39;49m\u001b[38;5;124;43m'\u001b[39;49m\u001b[43m]\u001b[49m \n\u001b[0;32m     21\u001b[0m data \u001b[38;5;241m=\u001b[39m data\u001b[38;5;241m.\u001b[39mreplace(\u001b[38;5;124m\"\u001b[39m\u001b[38;5;124m-\u001b[39m\u001b[38;5;124m\"\u001b[39m,\u001b[38;5;124m\"\u001b[39m\u001b[38;5;124m+\u001b[39m\u001b[38;5;124m\"\u001b[39m)\u001b[38;5;241m.\u001b[39mreplace(\u001b[38;5;124m\"\u001b[39m\u001b[38;5;124m_\u001b[39m\u001b[38;5;124m\"\u001b[39m,\u001b[38;5;124m\"\u001b[39m\u001b[38;5;124m/\u001b[39m\u001b[38;5;124m\"\u001b[39m) \n\u001b[0;32m     22\u001b[0m decoded_data \u001b[38;5;241m=\u001b[39m base64\u001b[38;5;241m.\u001b[39mb64decode(data) \n",
      "\u001b[1;31mKeyError\u001b[0m: 'data'"
     ]
    }
   ],
   "source": [
    "for email_ids in emailIdList_filter_by_title: \n",
    "    # Get the message from its id \n",
    "    txt = service.users().messages().get(userId='me', id=email_ids['id']).execute() \n",
    "  \n",
    "    # Use try-except to avoid any Errors \n",
    "    # Get value of 'payload' from dictionary 'txt' \n",
    "    payload = txt['payload'] \n",
    "    headers = payload['headers'] \n",
    "  \n",
    "    # Look for Subject and Sender Email in the headers \n",
    "    for d in headers: \n",
    "        if d['name'] == 'Subject': \n",
    "            subject = d['value'] \n",
    "        if d['name'] == 'From': \n",
    "            sender = d['value'] \n",
    "  \n",
    "    # The Body of the message is in Encrypted format. So, we have to decode it. \n",
    "    # Get the data and decode it with base 64 decoder. \n",
    "    parts = payload.get('parts')[0] \n",
    "    data = parts['body']['data'] \n",
    "    data = data.replace(\"-\",\"+\").replace(\"_\",\"/\") \n",
    "    decoded_data = base64.b64decode(data) \n",
    "            \n",
    "  \n",
    "    # Now, the data obtained is in lxml. So, we will parse  \n",
    "    # it with BeautifulSoup library \n",
    "    soup = BeautifulSoup(decoded_data , \"lxml\") \n",
    "    body = soup.body() \n",
    "  \n",
    "    # Printing the subject, sender's email and message \n",
    "    print(\"Subject: \", subject) \n",
    "    print(\"From: \", sender) \n",
    "    print(\"Message: \", body) \n",
    "    print('\\n') "
   ]
  },
  {
   "cell_type": "code",
   "execution_count": null,
   "id": "b81ab3fe-3e57-4ca3-8da2-e0f5ae9fffbf",
   "metadata": {},
   "outputs": [],
   "source": []
  },
  {
   "cell_type": "code",
   "execution_count": 162,
   "id": "a7a27fb0-bfd0-4a3f-ab30-034e8d8d08a4",
   "metadata": {},
   "outputs": [],
   "source": [
    "def getEmails(): \n",
    "    # Variable creds will store the user access token. \n",
    "    # If no valid token found, we will create one. \n",
    "    creds = None\n",
    "  \n",
    "    # The file token.pickle contains the user access token. \n",
    "    # Check if it exists \n",
    "    if os.path.exists('token.pickle'): \n",
    "  \n",
    "        # Read the token from the file and store it in the variable creds \n",
    "        with open('token.pickle', 'rb') as token: \n",
    "            creds = pickle.load(token) \n",
    "  \n",
    "    # If credentials are not available or are invalid, ask the user to log in. \n",
    "    if not creds or not creds.valid: \n",
    "        if creds and creds.expired and creds.refresh_token: \n",
    "            creds.refresh(Request()) \n",
    "        else: \n",
    "            flow = InstalledAppFlow.from_client_secrets_file(client_secret_file, SCOPES) \n",
    "            creds = flow.run_local_server(port=0) \n",
    "  \n",
    "        # Save the access token in token.pickle file for the next run \n",
    "        with open('token.pickle', 'wb') as token: \n",
    "            pickle.dump(creds, token) \n",
    "  \n",
    "    # Connect to the Gmail API \n",
    "    service = build('gmail', 'v1', credentials=creds) \n",
    "  \n",
    "    # request a list of all the messages \n",
    "    result = service.users().messages().list(userId='me').execute() \n",
    "  \n",
    "    # We can also pass maxResults to get any number of emails. Like this: \n",
    "    # result = service.users().messages().list(maxResults=200, userId='me').execute() \n",
    "    messages = result.get('messages') \n",
    "  \n",
    "    # messages is a list of dictionaries where each dictionary contains a message id. \n",
    "  \n",
    "    # iterate through all the messages \n",
    "    for msg in messages: \n",
    "        # Get the message from its id \n",
    "        txt = service.users().messages().get(userId='me', id=msg['id']).execute() \n",
    "  \n",
    "        # Use try-except to avoid any Errors \n",
    "        try: \n",
    "            # Get value of 'payload' from dictionary 'txt' \n",
    "            payload = txt['payload'] \n",
    "            headers = payload['headers'] \n",
    "  \n",
    "            # Look for Subject and Sender Email in the headers \n",
    "            for d in headers: \n",
    "                if d['name'] == 'Subject': \n",
    "                    subject = d['value'] \n",
    "                if d['name'] == 'From': \n",
    "                    sender = d['value'] \n",
    "  \n",
    "            # The Body of the message is in Encrypted format. So, we have to decode it. \n",
    "            # Get the data and decode it with base 64 decoder. \n",
    "            parts = payload.get('parts')[0] \n",
    "            data = parts['body']['data'] \n",
    "            data = data.replace(\"-\",\"+\").replace(\"_\",\"/\") \n",
    "            decoded_data = base64.b64decode(data) \n",
    "            \n",
    "  \n",
    "            # Now, the data obtained is in lxml. So, we will parse  \n",
    "            # it with BeautifulSoup library \n",
    "            soup = BeautifulSoup(decoded_data , \"csv\") \n",
    "            body = soup.body() \n",
    "  \n",
    "            # Printing the subject, sender's email and message \n",
    "            print(\"Subject: \", subject) \n",
    "            print(\"From: \", sender) \n",
    "            print(\"Message: \", body) \n",
    "            print('\\n') \n",
    "        except: \n",
    "            pass\n",
    "  \n",
    "  \n",
    "getEmails()"
   ]
  },
  {
   "cell_type": "code",
   "execution_count": null,
   "id": "07f07291-80b2-4b8c-b611-a8bd4b937a75",
   "metadata": {},
   "outputs": [],
   "source": []
  }
 ],
 "metadata": {
  "kernelspec": {
   "display_name": "Python 3 (ipykernel)",
   "language": "python",
   "name": "python3"
  },
  "language_info": {
   "codemirror_mode": {
    "name": "ipython",
    "version": 3
   },
   "file_extension": ".py",
   "mimetype": "text/x-python",
   "name": "python",
   "nbconvert_exporter": "python",
   "pygments_lexer": "ipython3",
   "version": "3.9.0"
  }
 },
 "nbformat": 4,
 "nbformat_minor": 5
}
