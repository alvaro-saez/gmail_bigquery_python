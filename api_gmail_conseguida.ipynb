{
 "cells": [
  {
   "cell_type": "code",
   "execution_count": 187,
   "id": "3589bdba-a295-445b-92ed-5bd72311b7bb",
   "metadata": {},
   "outputs": [],
   "source": [
    "import os.path \n",
    "\n",
    "from google.oauth2.credentials import Credentials\n",
    "from google_auth_oauthlib.flow import InstalledAppFlow\n",
    "from google.auth.transport.requests import Request\n",
    "from googleapiclient.discovery import build\n",
    "from googleapiclient.errors import HttpError\n",
    "\n",
    "import pickle \n",
    "\n",
    "import base64 \n",
    "import email \n",
    "from bs4 import BeautifulSoup\n",
    "import csv\n",
    "\n",
    "import gspread\n",
    "from google.oauth2.service_account import Credentials"
   ]
  },
  {
   "cell_type": "code",
   "execution_count": 188,
   "id": "9b449063-3c11-44f1-b60c-2c44c373b80e",
   "metadata": {},
   "outputs": [],
   "source": [
    "SCOPES = [\"https://www.googleapis.com/auth/gmail.send\",'https://www.googleapis.com/auth/gmail.readonly','https://mail.google.com/', \"https://www.googleapis.com/auth/gmail.metadata\", \"https://www.googleapis.com/auth/gmail.modify\"]\n",
    "client_secret_file = './credenciales/client_secret_python_gmail.json'"
   ]
  },
  {
   "cell_type": "markdown",
   "id": "9ef9ff5c-9d44-4138-9cbb-0343e32ccc80",
   "metadata": {},
   "source": [
    "## conexion"
   ]
  },
  {
   "cell_type": "code",
   "execution_count": 189,
   "id": "fff4a428-3b9a-44a3-9fd7-6a9626f02b25",
   "metadata": {},
   "outputs": [],
   "source": [
    "creds = None\n",
    "  \n",
    "# The file token.pickle contains the user access token. \n",
    "# Check if it exists \n",
    "if os.path.exists('token.pickle'): \n",
    "  \n",
    "    # Read the token from the file and store it in the variable creds \n",
    "    with open('token.pickle', 'rb') as token: \n",
    "        creds = pickle.load(token) \n",
    "  \n",
    "# If credentials are not available or are invalid, ask the user to log in. \n",
    "if not creds or not creds.valid: \n",
    "    if creds and creds.expired and creds.refresh_token: \n",
    "        creds.refresh(Request()) \n",
    "    else: \n",
    "        flow = InstalledAppFlow.from_client_secrets_file(client_secret_file, SCOPES) \n",
    "        creds = flow.run_local_server(port=0) \n",
    "  \n",
    "    # Save the access token in token.pickle file for the next run \n",
    "    with open('token.pickle', 'wb') as token: \n",
    "        pickle.dump(creds, token) \n",
    "  \n",
    "# Connect to the Gmail API \n",
    "service = build('gmail', 'v1', credentials=creds) "
   ]
  },
  {
   "cell_type": "markdown",
   "id": "6671572b-26a5-4205-8f65-47a186787a50",
   "metadata": {},
   "source": [
    "## requests"
   ]
  },
  {
   "cell_type": "markdown",
   "id": "64d0a16c-2138-4991-a9e3-e3a607319694",
   "metadata": {},
   "source": [
    "#### Ver las etiquetas (LABELS)"
   ]
  },
  {
   "cell_type": "code",
   "execution_count": 190,
   "id": "1da5589f-63ed-49c3-8873-d3b07f848255",
   "metadata": {},
   "outputs": [
    {
     "data": {
      "text/plain": [
       "{'id': 'CHAT',\n",
       " 'name': 'CHAT',\n",
       " 'messageListVisibility': 'hide',\n",
       " 'labelListVisibility': 'labelHide',\n",
       " 'type': 'system'}"
      ]
     },
     "execution_count": 190,
     "metadata": {},
     "output_type": "execute_result"
    }
   ],
   "source": [
    "results_labels = service.users().labels().list(userId=\"me\").execute().get(\"labels\")\n",
    "results_labels[0]"
   ]
  },
  {
   "cell_type": "markdown",
   "id": "269bcbb6-b343-4dfe-ad38-e413766dc78a",
   "metadata": {},
   "source": [
    "#### TODO EL LISTADO"
   ]
  },
  {
   "cell_type": "code",
   "execution_count": 191,
   "id": "56785f72-1bd7-4278-a7c6-0f9a9aaa7152",
   "metadata": {},
   "outputs": [
    {
     "data": {
      "text/plain": [
       "{'id': '18c1c2d8fea5206f', 'threadId': '18c1c2d8fea5206f'}"
      ]
     },
     "execution_count": 191,
     "metadata": {},
     "output_type": "execute_result"
    }
   ],
   "source": [
    "# request a list of all the messages \n",
    "emailIdList = service.users().messages().list(userId='me').execute().get('messages')\n",
    "emailIdList[0]"
   ]
  },
  {
   "cell_type": "code",
   "execution_count": 192,
   "id": "82b5cbbb-4bb1-474a-9dc3-58c33caccde1",
   "metadata": {},
   "outputs": [],
   "source": [
    "for email_ids in emailIdList: \n",
    "    # Get the message from its id \n",
    "    email_parts = service.users().messages().get(userId='me', id=email_ids['id']).execute()"
   ]
  },
  {
   "cell_type": "code",
   "execution_count": 193,
   "id": "86d139a5-8c77-4ed2-a639-2a0c1e729cb3",
   "metadata": {},
   "outputs": [
    {
     "data": {
      "text/plain": [
       "['IMPORTANT', 'CATEGORY_UPDATES', 'INBOX']"
      ]
     },
     "execution_count": 193,
     "metadata": {},
     "output_type": "execute_result"
    }
   ],
   "source": [
    "email_parts[\"labelIds\"]"
   ]
  },
  {
   "cell_type": "markdown",
   "id": "c0f79ffc-a5f3-448e-9f9d-72ac94ebf2a1",
   "metadata": {},
   "source": [
    "#### POR TITULO"
   ]
  },
  {
   "cell_type": "code",
   "execution_count": 194,
   "id": "bf956ab5-b028-4070-835d-f5637713d1b5",
   "metadata": {},
   "outputs": [],
   "source": [
    "emailIdList_filter_by_title = service.users().messages().list(userId='me', q=f'subject:test gmail csv').execute().get('messages')"
   ]
  },
  {
   "cell_type": "code",
   "execution_count": 195,
   "id": "c7c80afa-e08d-4d76-8749-69f6e8e563d2",
   "metadata": {},
   "outputs": [],
   "source": [
    "for email_ids in emailIdList_filter_by_title: \n",
    "    # Get the message from its id \n",
    "    email_parts = service.users().messages().get(userId='me', id=email_ids['id']).execute()"
   ]
  },
  {
   "cell_type": "markdown",
   "id": "8c94183a-565d-4fcd-97ae-47a2844d3794",
   "metadata": {},
   "source": [
    "### obtener campos del email"
   ]
  },
  {
   "cell_type": "markdown",
   "id": "a642bd32-e7c9-48ce-8144-02399f3831d9",
   "metadata": {},
   "source": [
    "##### Queries para poner dentro del method list (como en el siguiente ejemplo de subject):\n",
    "  - subject:\n",
    "  - from:\n",
    "  - to:\n",
    "  - cc:\n",
    "  - bcc:\n",
    "  - label:\n",
    "  - has:attachment\n",
    "  - has:drive\n",
    "  - has:document\n",
    "  - has:spreadsheet\n",
    "  - has:presentation\n",
    "  - filename:\n",
    "  - newer_than:2d\n",
    "  - deliveredto:\n",
    "  - OR or { }: --> from:amy OR from:david\n",
    "\n",
    "https://support.google.com/mail/answer/7190?hl=en    --> All the terms and REGEXtation"
   ]
  },
  {
   "cell_type": "code",
   "execution_count": 196,
   "id": "63855d11-77f1-4ce0-a624-6e41084649ab",
   "metadata": {},
   "outputs": [],
   "source": [
    "emailIdList_filter_by_title = service.users().messages().list(userId='me', q=f'subject:test gmail csv').execute().get('messages')"
   ]
  },
  {
   "cell_type": "code",
   "execution_count": 197,
   "id": "55ffe7e1-a297-4080-9f1e-ca95692f46c6",
   "metadata": {},
   "outputs": [],
   "source": [
    "for email_ids in emailIdList_filter_by_title: \n",
    "    # Get the message from its id \n",
    "    email_parts = service.users().messages().get(userId='me', id=email_ids['id']).execute()\n",
    "    email_field_from = [name['value'] for name in email_parts['payload']['headers'] if name['name'] == 'From']\n",
    "    email_field_to = [name['value'] for name in email_parts['payload']['headers'] if name['name'] == 'To']\n",
    "    email_field_subject = [name['value'] for name in email_parts['payload']['headers'] if name['name'] == 'Subject']\n",
    "    email_field_date = [name['value'] for name in email_parts['payload']['headers'] if name['name'] == 'Date'] "
   ]
  },
  {
   "cell_type": "code",
   "execution_count": 198,
   "id": "0459c199-fd6f-460b-bf54-ad12aa88ea35",
   "metadata": {},
   "outputs": [
    {
     "data": {
      "text/plain": [
       "['Wed, 29 Nov 2023 12:47:52 +0100']"
      ]
     },
     "execution_count": 198,
     "metadata": {},
     "output_type": "execute_result"
    }
   ],
   "source": [
    "email_field_date"
   ]
  },
  {
   "cell_type": "code",
   "execution_count": 199,
   "id": "2758abb3-94f4-4f21-93c8-4e49119bc238",
   "metadata": {},
   "outputs": [
    {
     "data": {
      "text/plain": [
       "['Alv Sz <alvarosaezsanchez@gmail.com>']"
      ]
     },
     "execution_count": 199,
     "metadata": {},
     "output_type": "execute_result"
    }
   ],
   "source": [
    "email_field_from"
   ]
  },
  {
   "cell_type": "markdown",
   "id": "2bbe9604-fc41-40bf-8d28-70639a64cc2f",
   "metadata": {},
   "source": [
    "### adjuntos"
   ]
  },
  {
   "cell_type": "code",
   "execution_count": 200,
   "id": "01acd3ea-0056-4d65-a512-ab2b5e62ddb9",
   "metadata": {},
   "outputs": [],
   "source": [
    "emailIdList_filter_by_title = service.users().messages().list(userId='me', q=f'subject:test gmail excel').execute().get('messages')"
   ]
  },
  {
   "cell_type": "code",
   "execution_count": 201,
   "id": "29c2e47a-9edd-4d02-a377-b1e0afe4c2f3",
   "metadata": {},
   "outputs": [],
   "source": [
    "for email_ids in emailIdList_filter_by_title: \n",
    "    email_parts = service.users().messages().get(userId='me', id=email_ids['id']).execute()"
   ]
  },
  {
   "cell_type": "code",
   "execution_count": 203,
   "id": "889a5d75-bc9b-4dc1-8c77-21438e3ff8fe",
   "metadata": {},
   "outputs": [
    {
     "name": "stdout",
     "output_type": "stream",
     "text": [
      "{'attachmentId': 'ANGjdJ_ews5C5VJ56vaLgMjdsBdgS434beEOQFUPMrhE4Ybjzd2ODd47orTKkYWhSEVMJ5d1M4p6GxmiJ2mUCv1WPkhKVVz1jcWlYABO5P2XF_9_U1DlU5sf-fUJncFM6Do4lE2blbcepZIF50_nMExkSnF6-OWs7lQ6scHsiU2RoFpKXgSe08EGnWu3qS4baUeetNwZyWqrN74cLxQpRG3wo2g3zyJQevXuSCQMp3FQPQs5wrLlpajEShcq_rQx5wOnNXywn0rCjOGSfkCCn5OUf1jyC5U-o9KlvmMyte3hlX0ngFsDn3vnmPC7dxE', 'size': 16620}\n"
     ]
    },
    {
     "ename": "KeyError",
     "evalue": "'data'",
     "output_type": "error",
     "traceback": [
      "\u001b[1;31m---------------------------------------------------------------------------\u001b[0m",
      "\u001b[1;31mKeyError\u001b[0m                                  Traceback (most recent call last)",
      "Cell \u001b[1;32mIn[203], line 6\u001b[0m\n\u001b[0;32m      2\u001b[0m \u001b[38;5;28;01mif\u001b[39;00m part[\u001b[38;5;124m'\u001b[39m\u001b[38;5;124mfilename\u001b[39m\u001b[38;5;124m'\u001b[39m] \u001b[38;5;241m==\u001b[39m \u001b[38;5;124m\"\u001b[39m\u001b[38;5;124mGEO_IP_1_comb (1).xlsx\u001b[39m\u001b[38;5;124m\"\u001b[39m:\n\u001b[0;32m      3\u001b[0m     \n\u001b[0;32m      4\u001b[0m     \u001b[38;5;66;03m# Decodificar el contenido del archivo adjunto\u001b[39;00m\n\u001b[0;32m      5\u001b[0m     \u001b[38;5;28mprint\u001b[39m(part[\u001b[38;5;124m'\u001b[39m\u001b[38;5;124mbody\u001b[39m\u001b[38;5;124m'\u001b[39m])\n\u001b[1;32m----> 6\u001b[0m     file_data \u001b[38;5;241m=\u001b[39m base64\u001b[38;5;241m.\u001b[39murlsafe_b64decode(\u001b[43mpart\u001b[49m\u001b[43m[\u001b[49m\u001b[38;5;124;43m'\u001b[39;49m\u001b[38;5;124;43mbody\u001b[39;49m\u001b[38;5;124;43m'\u001b[39;49m\u001b[43m]\u001b[49m\u001b[43m[\u001b[49m\u001b[38;5;124;43m'\u001b[39;49m\u001b[38;5;124;43mdata\u001b[39;49m\u001b[38;5;124;43m'\u001b[39;49m\u001b[43m]\u001b[49m)\n\u001b[0;32m      8\u001b[0m     \u001b[38;5;66;03m# Guardar el archivo en el sistema local con la extensión correcta (por ejemplo, '.xlsx' para Excel)\u001b[39;00m\n\u001b[0;32m      9\u001b[0m     file_name \u001b[38;5;241m=\u001b[39m part[\u001b[38;5;124m'\u001b[39m\u001b[38;5;124mfilename\u001b[39m\u001b[38;5;124m'\u001b[39m]\n",
      "\u001b[1;31mKeyError\u001b[0m: 'data'"
     ]
    }
   ],
   "source": [
    "for part in email_parts['payload']['parts']:\n",
    "    if part['filename'] == \"GEO_IP_1_comb (1).xlsx\":\n",
    "        \n",
    "        # Decodificar el contenido del archivo adjunto\n",
    "        print(part['body'])\n",
    "        file_data = base64.urlsafe_b64decode(part['body']['data'])\n",
    "\n",
    "        # Guardar el archivo en el sistema local con la extensión correcta (por ejemplo, '.xlsx' para Excel)\n",
    "        file_name = part['filename']\n",
    "        if not file_name.endswith('.xlsx'):\n",
    "            file_name += '.xlsx'\n",
    "\n",
    "        with open(file_name, 'wb') as f:\n",
    "            f.write(file_data)\n",
    "\n",
    "print(f\"El archivo {file_name} se ha descargado exitosamente.\")"
   ]
  },
  {
   "cell_type": "markdown",
   "id": "b94faa74-fb67-4343-b5ad-7ea99fdf7a7b",
   "metadata": {},
   "source": [
    "#### escrapear todo el texto del email"
   ]
  },
  {
   "cell_type": "code",
   "execution_count": null,
   "id": "b81ab3fe-3e57-4ca3-8da2-e0f5ae9fffbf",
   "metadata": {},
   "outputs": [],
   "source": []
  },
  {
   "cell_type": "code",
   "execution_count": null,
   "id": "07f07291-80b2-4b8c-b611-a8bd4b937a75",
   "metadata": {},
   "outputs": [],
   "source": []
  }
 ],
 "metadata": {
  "kernelspec": {
   "display_name": "Python 3 (ipykernel)",
   "language": "python",
   "name": "python3"
  },
  "language_info": {
   "codemirror_mode": {
    "name": "ipython",
    "version": 3
   },
   "file_extension": ".py",
   "mimetype": "text/x-python",
   "name": "python",
   "nbconvert_exporter": "python",
   "pygments_lexer": "ipython3",
   "version": "3.9.0"
  }
 },
 "nbformat": 4,
 "nbformat_minor": 5
}
