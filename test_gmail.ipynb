{
 "cells": [
  {
   "cell_type": "code",
   "execution_count": 30,
   "id": "eb6cc723-d163-4725-8660-ef37b2f22ad0",
   "metadata": {},
   "outputs": [],
   "source": [
    "from google.oauth2.credentials import Credentials\n",
    "from google_auth_oauthlib.flow import InstalledAppFlow\n",
    "from google.auth.transport.requests import Request\n",
    "from googleapiclient.discovery import build\n",
    "import pickle \n",
    "import os.path \n",
    "import base64 \n",
    "import email \n",
    "from bs4 import BeautifulSoup\n",
    "import csv\n",
    "\n",
    "import gspread\n",
    "from google.oauth2.service_account import Credentials"
   ]
  },
  {
   "cell_type": "code",
   "execution_count": 40,
   "id": "44d72b17-d31c-4b34-a81f-3bb6750006cd",
   "metadata": {},
   "outputs": [],
   "source": [
    "SCOPES = [\"https://www.googleapis.com/auth/gmail.send\",'https://www.googleapis.com/auth/gmail.readonly','https://mail.google.com/', \"https://www.googleapis.com/auth/gmail.metadata\", \"https://www.googleapis.com/auth/gmail.modify\"]\n",
    "client_secret_file = './credenciales/client_secret_python_gmail.json'\n"
   ]
  },
  {
   "cell_type": "code",
   "execution_count": 88,
   "id": "1df08545-a42f-4123-a569-0464ee6bb6dd",
   "metadata": {},
   "outputs": [],
   "source": [
    "def getEmails(): \n",
    "    # Variable creds will store the user access token. \n",
    "    # If no valid token found, we will create one. \n",
    "    creds = None\n",
    "  \n",
    "    # The file token.pickle contains the user access token. \n",
    "    # Check if it exists \n",
    "    if os.path.exists('token.pickle'): \n",
    "  \n",
    "        # Read the token from the file and store it in the variable creds \n",
    "        with open('token.pickle', 'rb') as token: \n",
    "            creds = pickle.load(token) \n",
    "  \n",
    "    # If credentials are not available or are invalid, ask the user to log in. \n",
    "    if not creds or not creds.valid: \n",
    "        if creds and creds.expired and creds.refresh_token: \n",
    "            creds.refresh(Request()) \n",
    "        else: \n",
    "            flow = InstalledAppFlow.from_client_secrets_file(client_secret_file, SCOPES) \n",
    "            creds = flow.run_local_server(port=0) \n",
    "  \n",
    "        # Save the access token in token.pickle file for the next run \n",
    "        with open('token.pickle', 'wb') as token: \n",
    "            pickle.dump(creds, token) \n",
    "  \n",
    "    # Connect to the Gmail API \n",
    "    service = build('gmail', 'v1', credentials=creds) \n",
    "  \n",
    "    # request a list of all the messages \n",
    "    result = service.users().messages().list(userId='me').execute() \n",
    "  \n",
    "    # We can also pass maxResults to get any number of emails. Like this: \n",
    "    # result = service.users().messages().list(maxResults=200, userId='me').execute() \n",
    "    messages = result.get('messages') \n",
    "  \n",
    "    # messages is a list of dictionaries where each dictionary contains a message id. \n",
    "  \n",
    "    # iterate through all the messages \n",
    "    for msg in messages: \n",
    "        # Get the message from its id \n",
    "        txt = service.users().messages().get(userId='me', id=msg['id']).execute() \n",
    "  \n",
    "        # Use try-except to avoid any Errors \n",
    "        try: \n",
    "            # Get value of 'payload' from dictionary 'txt' \n",
    "            payload = txt['payload'] \n",
    "            headers = payload['headers'] \n",
    "  \n",
    "            # Look for Subject and Sender Email in the headers \n",
    "            for d in headers: \n",
    "                if d['name'] == 'Subject': \n",
    "                    subject = d['value'] \n",
    "                if d['name'] == 'From': \n",
    "                    sender = d['value'] \n",
    "  \n",
    "            # The Body of the message is in Encrypted format. So, we have to decode it. \n",
    "            # Get the data and decode it with base 64 decoder. \n",
    "            parts = payload.get('parts')[0] \n",
    "            data = parts['body']['data'] \n",
    "            data = data.replace(\"-\",\"+\").replace(\"_\",\"/\") \n",
    "            decoded_data = base64.b64decode(data) \n",
    "            \n",
    "  \n",
    "            # Now, the data obtained is in lxml. So, we will parse  \n",
    "            # it with BeautifulSoup library \n",
    "            soup = BeautifulSoup(decoded_data , \"csv\") \n",
    "            body = soup.body() \n",
    "  \n",
    "            # Printing the subject, sender's email and message \n",
    "            print(\"Subject: \", subject) \n",
    "            print(\"From: \", sender) \n",
    "            print(\"Message: \", body) \n",
    "            print('\\n') \n",
    "        except: \n",
    "            pass\n",
    "  \n",
    "  \n",
    "getEmails()"
   ]
  },
  {
   "cell_type": "markdown",
   "id": "96fea86a-f4ba-4602-a702-5ce75e32cd4b",
   "metadata": {},
   "source": [
    "## conexion"
   ]
  },
  {
   "cell_type": "code",
   "execution_count": 89,
   "id": "436cc8f2-154d-4ac2-842a-b62f269c3280",
   "metadata": {},
   "outputs": [],
   "source": [
    "creds = None\n",
    "  \n",
    "# The file token.pickle contains the user access token. \n",
    "# Check if it exists \n",
    "if os.path.exists('token.pickle'): \n",
    "  \n",
    "    # Read the token from the file and store it in the variable creds \n",
    "    with open('token.pickle', 'rb') as token: \n",
    "        creds = pickle.load(token) \n",
    "  \n",
    "# If credentials are not available or are invalid, ask the user to log in. \n",
    "if not creds or not creds.valid: \n",
    "    if creds and creds.expired and creds.refresh_token: \n",
    "        creds.refresh(Request()) \n",
    "    else: \n",
    "        flow = InstalledAppFlow.from_client_secrets_file(client_secret_file, SCOPES) \n",
    "        creds = flow.run_local_server(port=0) \n",
    "  \n",
    "    # Save the access token in token.pickle file for the next run \n",
    "    with open('token.pickle', 'wb') as token: \n",
    "        pickle.dump(creds, token) \n",
    "  \n",
    "# Connect to the Gmail API \n",
    "service = build('gmail', 'v1', credentials=creds) \n",
    "  \n",
    "# request a list of all the messages \n",
    "result = service.users().messages().list(userId='me').execute() \n",
    "  \n",
    "# We can also pass maxResults to get any number of emails. Like this: \n",
    "# result = service.users().messages().list(maxResults=200, userId='me').execute() \n",
    "messages = result.get('messages') "
   ]
  },
  {
   "cell_type": "markdown",
   "id": "6745d2ca-2970-4ed0-977c-17cddb65e438",
   "metadata": {},
   "source": [
    "## mensajes"
   ]
  },
  {
   "cell_type": "code",
   "execution_count": 13,
   "id": "c7cb532e-2856-4293-8f27-1da460dc4e10",
   "metadata": {},
   "outputs": [],
   "source": [
    "messages = list_messages(service)\n",
    "#for message in messages:\n",
    "    #print(f\"ID del mensaje: {message['id']}\")"
   ]
  },
  {
   "cell_type": "code",
   "execution_count": 87,
   "id": "c4f9980b-a703-41f3-84e0-05d3bdc13451",
   "metadata": {},
   "outputs": [],
   "source": [
    "def get_message(service, user_id='me', msg_id=''):\n",
    "    try:\n",
    "        message = service.users().messages().get(userId=user_id, id=msg_id).execute()\n",
    "        return message\n",
    "    except Exception as error:\n",
    "        print(f'Error al obtener el mensaje: {error}')\n",
    "\n",
    "def get_attachment(service, user_id='me', msg_id='', store_dir=''):\n",
    "    try:\n",
    "        message = get_message(service, user_id, msg_id)\n",
    "\n",
    "        for part in message['payload']['parts']:\n",
    "            if part['filename']:\n",
    "                file_data = base64.urlsafe_b64decode(part['body']['data'].encode('UTF-8'))\n",
    "\n",
    "                # Guarda el archivo adjunto en el directorio especificado\n",
    "                path = os.path.join(store_dir, part['filename'])\n",
    "                with open(path, 'wb') as f:\n",
    "                    f.write(file_data)\n",
    "                    print(f'Archivo adjunto guardado en: {path}')\n",
    "\n",
    "                # Procesa el archivo CSV después de guardarlo\n",
    "                process_csv_file(path)\n",
    "\n",
    "    except Exception as error:\n",
    "        print(f'Error al obtener el adjunto: {error}')\n",
    "\n",
    "def process_csv_file(csv_file_path):\n",
    "    try:\n",
    "        with open(csv_file_path, 'r') as csv_file:\n",
    "            csv_reader = csv.reader(csv_file)\n",
    "            for row in csv_reader:\n",
    "                # Procesa cada fila del archivo CSV como desees\n",
    "                print(row)\n",
    "    except Exception as error:\n",
    "        print(f'Error al procesar el archivo CSV: {error}')"
   ]
  },
  {
   "cell_type": "code",
   "execution_count": 86,
   "id": "3e06ce85-7e9e-4b4f-aca3-fbe074bda9b9",
   "metadata": {},
   "outputs": [
    {
     "name": "stdout",
     "output_type": "stream",
     "text": [
      "Error al obtener el adjunto: 'data'\n"
     ]
    }
   ],
   "source": [
    "# Lista los mensajes en la bandeja de entrada\n",
    "messages = list_messages(service)\n",
    "\n",
    "# Obtiene el primer mensaje (cambia el índice según tu necesidad)\n",
    "if messages:\n",
    "    first_message_id = messages[1]['id']\n",
    "    get_attachment(service, msg_id=first_message_id, store_dir='./files')"
   ]
  },
  {
   "cell_type": "code",
   "execution_count": 33,
   "id": "c996245b-6fb0-4104-8cde-a6be931a232f",
   "metadata": {},
   "outputs": [
    {
     "name": "stdout",
     "output_type": "stream",
     "text": [
      "Correos electrónicos encontrados:\n",
      "ID del mensaje: 18c1ae8bcff0d28c\n"
     ]
    }
   ],
   "source": [
    "def search_emails_by_title(service, user_id, title):\n",
    "    try:\n",
    "        response = service.users().messages().list(userId=user_id, q=f'subject:{title}').execute()\n",
    "        messages = response.get('messages', [])\n",
    "\n",
    "        if not messages:\n",
    "            print('No se encontraron correos electrónicos con ese título.')\n",
    "        else:\n",
    "            print('Correos electrónicos encontrados:')\n",
    "            for message in messages:\n",
    "                print(f'ID del mensaje: {message[\"id\"]}')\n",
    "\n",
    "    except Exception as e:\n",
    "        print(f'Error al buscar correos electrónicos: {e}')\n",
    "\n",
    "# Define el ID del usuario (generalmente es 'me' para el usuario autenticado)\n",
    "user_id = 'me'\n",
    "\n",
    "# Especifica el título del correo electrónico que estás buscando\n",
    "email_title = 'test gmail csv'\n",
    "\n",
    "# Llama a la función de búsqueda\n",
    "search_emails_by_title(service, user_id, email_title)"
   ]
  },
  {
   "cell_type": "code",
   "execution_count": 58,
   "id": "b3d162ea-5214-40eb-bdb3-9c5d2aa59f48",
   "metadata": {},
   "outputs": [
    {
     "name": "stdout",
     "output_type": "stream",
     "text": [
      "Correos electrónicos encontrados:\n",
      "{'id': '18c1b2b9b9257cb3', 'threadId': '18c1b2b2ef01d93d'}\n",
      "Error al buscar y descargar adjuntos: 'subject'\n"
     ]
    }
   ],
   "source": [
    "def download_attachment(service, user_id, title, download_path):\n",
    "    try:\n",
    "        response = service.users().messages().list(userId=user_id, q=f'subject:{title}').execute()\n",
    "        messages = response.get('messages', [])\n",
    "\n",
    "        if not messages:\n",
    "            print('No se encontraron correos electrónicos con ese título.')\n",
    "        else:\n",
    "            print('Correos electrónicos encontrados:')\n",
    "            for message in messages:\n",
    "                print(message)\n",
    "                message_id = message['id']\n",
    "                msg = service.users().messages().get(userId=user_id, id=message_id).execute()\n",
    "\n",
    "                # Obtiene el título del correo electrónico\n",
    "                email_subject = msg['subject']\n",
    "                print(f'Título del correo electrónico: {email_subject}')\n",
    "\n",
    "                # Verifica si hay adjuntos\n",
    "                if 'parts' in msg['payload']:\n",
    "                    for part in msg['payload']['parts']:\n",
    "                        if 'filename' in part:\n",
    "                            filename = part['filename']\n",
    "                            body = part['body']\n",
    "\n",
    "                            # Verifica si el adjunto es un archivo CSV\n",
    "                            if 'text/csv' in body['attachmentId']:\n",
    "                                attachment = service.users().messages().attachments().get(\n",
    "                                    userId=user_id, messageId=message_id, id=body['attachmentId']).execute()\n",
    "                                print(attachment)\n",
    "\n",
    "                                file_data = base64.urlsafe_b64decode(attachment['data'])\n",
    "                                file_path = os.path.join(download_path, filename)\n",
    "\n",
    "                                # Guarda el archivo CSV localmente\n",
    "                                with open(file_path, 'wb') as f:\n",
    "                                    f.write(file_data)\n",
    "\n",
    "                                print(f'Adjunto descargado en: {file_path}')\n",
    "\n",
    "    except Exception as e:\n",
    "        print(f'Error al buscar y descargar adjuntos: {e}')\n",
    "\n",
    "# Define el ID del usuario (generalmente es 'me' para el usuario autenticado)\n",
    "user_id = 'me'\n",
    "\n",
    "# Especifica el título del correo electrónico que estás buscando\n",
    "email_title = 'test gmail csv'\n",
    "\n",
    "# Especifica el directorio de descarga para el adjunto\n",
    "download_directory = './files'\n",
    "\n",
    "# Llama a la función de búsqueda y descarga de adjuntos\n",
    "download_attachment(service, user_id, email_title, download_directory)"
   ]
  },
  {
   "cell_type": "code",
   "execution_count": null,
   "id": "67a9137c-2a46-498a-bd4a-45740a1cebbb",
   "metadata": {},
   "outputs": [],
   "source": []
  },
  {
   "cell_type": "code",
   "execution_count": null,
   "id": "9589430e-a796-4fc7-8a44-c53a409dfb75",
   "metadata": {},
   "outputs": [],
   "source": []
  },
  {
   "cell_type": "code",
   "execution_count": null,
   "id": "facf5965-baac-4d84-91d1-f2cd580aee0d",
   "metadata": {},
   "outputs": [],
   "source": []
  },
  {
   "cell_type": "code",
   "execution_count": 63,
   "id": "fa5f8f93-eecf-4f4e-a4a0-e49877991c30",
   "metadata": {},
   "outputs": [],
   "source": [
    "service = build('gmail', 'v1', credentials=creds) \n",
    "  \n",
    "    # request a list of all the messages \n",
    "result = service.users().messages().list(userId='me').execute() \n",
    "  \n",
    "    # We can also pass maxResults to get any number of emails. Like this: \n",
    "    # result = service.users().messages().list(maxResults=200, userId='me').execute() \n",
    "messages = result.get('messages')"
   ]
  },
  {
   "cell_type": "code",
   "execution_count": 68,
   "id": "90ebdce2-b647-411f-a03a-e7d0a005b8da",
   "metadata": {},
   "outputs": [],
   "source": [
    "for msg in messages: \n",
    "    # Get the message from its id \n",
    "    txt = service.users().messages().get(userId='me', id=msg['id']).execute()"
   ]
  },
  {
   "cell_type": "code",
   "execution_count": 69,
   "id": "707fa2e1-1587-4dc7-9690-63b41f690244",
   "metadata": {},
   "outputs": [
    {
     "data": {
      "text/plain": [
       "{'id': '18ba3e2bbcd893c0',\n",
       " 'threadId': '18ba3e2bbcd893c0',\n",
       " 'labelIds': ['IMPORTANT', 'CATEGORY_UPDATES', 'INBOX'],\n",
       " 'snippet': 'Ajustes de notificaciones MIDE - Looker Studio Octubre 2023 Nuevo anuncio Estimado alumno. Te adjuntamos las indicaciones para incluir dentro de tu perfil de Linkedin, el certificado que acredita tu',\n",
       " 'payload': {'partId': '',\n",
       "  'mimeType': 'multipart/alternative',\n",
       "  'filename': '',\n",
       "  'headers': [{'name': 'Delivered-To', 'value': 'alvarosaezsanchez@gmail.com'},\n",
       "   {'name': 'Received',\n",
       "    'value': 'by 2002:a05:7010:934b:b0:393:73cd:86f8 with SMTP id s11csp2486296mdk;        Mon, 6 Nov 2023 01:07:07 -0800 (PST)'},\n",
       "   {'name': 'X-Received',\n",
       "    'value': 'by 2002:a05:6e02:b4d:b0:351:ab2:2621 with SMTP id f13-20020a056e020b4d00b003510ab22621mr41350541ilu.15.1699261626953;        Mon, 06 Nov 2023 01:07:06 -0800 (PST)'},\n",
       "   {'name': 'ARC-Seal',\n",
       "    'value': 'i=1; a=rsa-sha256; t=1699261626; cv=none;        d=google.com; s=arc-20160816;        b=zTmtUU7T9VLRJe6V75Xj1C58lFo15RMoe2vyVwxwnqc70Gsi5JDxDvTBO++deeYTtu         7MXuCo429GeaH8WNU1/hHKZoY/fjum/Lt0cXnAbJjOe5lu3F4fxRhP/Cynu5ZQn5+1QB         FJwMbcZp3Y4F5esnXrUW1wkxr9gEbuZfrTrncZMwwz6xt/ePf9YCuyrM2AvB7HDB3oA9         j0crRPJNI8sGUePK8fx/jiw2wnASAs/at5CKwYMFqgXZdj4Y0DbvbtEmLj3Mg5VNVVb4         A18BD7pDzc7c7MCAKSfFhZddufw3BCQJxKLGsg5zI5uC9RVVfPMOBzQvLnW1uHlQpyYA         gViA=='},\n",
       "   {'name': 'ARC-Message-Signature',\n",
       "    'value': 'i=1; a=rsa-sha256; c=relaxed/relaxed; d=google.com; s=arc-20160816;        h=to:from:subject:message-id:date:mime-version:dkim-signature;        bh=/X580vqpa6jG3erONf7g7Qyp2WjJaE1vnwujENwrkM0=;        fh=GUjVUrtandGdMSfkHG+GwcDOr46zQwAm7eOkClcbgFo=;        b=yDDJlUkIQ3ezu6qTrNDBoqqbEO+9dnCwkCW09LsonblHRVDDcsW6Rb52jPFLhweae1         zpMdntegAYzD1Sv5e+TUKXfh0MjbPPj0I9aFKQM9v08FGYAkx9FvlKyZ62oH6YBMlZsA         pe0m2GEy4HYIpYbLP3/PIYMFzHKcMeARRXmIlj/rXwXgii8gZ9Uv8v352NzMWya6nJeM         PkVxatrlBrAYgyCIme4AdJ1tPGZz3t8LnSRh/Jd/YcgYCoDaamhhgTya35b2DpShwRgS         ILa6K2DoBZMKQJOTtVeQwW9M+z2rX9Xb1RkmI8uxeGYVfo9TEOB7+XD7/frcypVBke7E         3pzw=='},\n",
       "   {'name': 'ARC-Authentication-Results',\n",
       "    'value': 'i=1; mx.google.com;       dkim=pass header.i=@google.com header.s=20230601 header.b=TrLd55l8;       spf=pass (google.com: domain of 3uqxizqguagcst-wjuqdhqfxxwttr.lttlqj.htr@chime-notifications.bounces.google.com designates 209.85.220.69 as permitted sender) smtp.mailfrom=3uqxIZQgUAGcST-WJUQdHQFXXWTTR.LTTLQJ.HTR@chime-notifications.bounces.google.com;       dmarc=pass (p=REJECT sp=REJECT dis=NONE) header.from=google.com'},\n",
       "   {'name': 'Return-Path',\n",
       "    'value': '<3uqxIZQgUAGcST-WJUQdHQFXXWTTR.LTTLQJ.HTR@chime-notifications.bounces.google.com>'},\n",
       "   {'name': 'Received',\n",
       "    'value': 'from mail-sor-f69.google.com (mail-sor-f69.google.com. [209.85.220.69])        by mx.google.com with SMTPS id g6-20020a92c7c6000000b00351374fc853sor1810483ilk.15.2023.11.06.01.07.06        for <alvarosaezsanchez@gmail.com>        (Google Transport Security);        Mon, 06 Nov 2023 01:07:06 -0800 (PST)'},\n",
       "   {'name': 'Received-SPF',\n",
       "    'value': 'pass (google.com: domain of 3uqxizqguagcst-wjuqdhqfxxwttr.lttlqj.htr@chime-notifications.bounces.google.com designates 209.85.220.69 as permitted sender) client-ip=209.85.220.69;'},\n",
       "   {'name': 'Authentication-Results',\n",
       "    'value': 'mx.google.com;       dkim=pass header.i=@google.com header.s=20230601 header.b=TrLd55l8;       spf=pass (google.com: domain of 3uqxizqguagcst-wjuqdhqfxxwttr.lttlqj.htr@chime-notifications.bounces.google.com designates 209.85.220.69 as permitted sender) smtp.mailfrom=3uqxIZQgUAGcST-WJUQdHQFXXWTTR.LTTLQJ.HTR@chime-notifications.bounces.google.com;       dmarc=pass (p=REJECT sp=REJECT dis=NONE) header.from=google.com'},\n",
       "   {'name': 'DKIM-Signature',\n",
       "    'value': 'v=1; a=rsa-sha256; c=relaxed/relaxed;        d=google.com; s=20230601; t=1699261626; x=1699866426; dara=google.com;        h=to:from:subject:message-id:date:mime-version:from:to:cc:subject         :date:message-id:reply-to;        bh=/X580vqpa6jG3erONf7g7Qyp2WjJaE1vnwujENwrkM0=;        b=TrLd55l8KfEYLCB8n4WEBRgQ83RvKqjArkQtDVab0qQNcSIP3neXybt6hWusWkeqe4         rnftjKHELU2u1FjEd/YwGmZUyXssNoVnIxnp9q/enZDoAguAM12Zuv6U4IhsHoiDXu23         6T29ggbQni0LU9rFL87+/wj/NrWNKYC5nDuiPnfNiMcgJF3Xn414dfW/L+N6ZaVeNLAz         3guNWOSYfKpfMOWXWbdk+4UeeVM6DoI8F84US6NSD2Tod2Z6FmaS8EnCS+ZuuqsUiNv2         bj08WmG3C+d5OXLvIWnLOl3Lu7p0o3oXZ0rD3oZz9iL9/rfBxmnYE1FteA9CsE0nvj9h         7e2w=='},\n",
       "   {'name': 'X-Google-DKIM-Signature',\n",
       "    'value': 'v=1; a=rsa-sha256; c=relaxed/relaxed;        d=1e100.net; s=20230601; t=1699261626; x=1699866426;        h=to:from:subject:message-id:date:mime-version:x-gm-message-state         :from:to:cc:subject:date:message-id:reply-to;        bh=/X580vqpa6jG3erONf7g7Qyp2WjJaE1vnwujENwrkM0=;        b=EBM4w2TgoPqCsrP7Kl3BB9tGvSmUj+cPObu6/dYOOq9/MMzOcSJHNev2XiNl4nqLct         DTzgkqHEr0jIFgf0NeP7FmshaCVlybaoEXlnjTkhIsOLbKVHL0vpsSr06Fy03MThD2Br         EjqLCxMHHhHr/nnzSdy17ftHwws45MzTPFSXi8ZIcmSYvMCV8KYEnQSf/EgMJkGWl8HU         95p+EMRlIpsPQLjItem34ZYpN6DLxNH8jy8e7AQJTZv4KkMaf/yPZ3P63SPVxEL2NsfN         cHnyTOtA2+0gpdn6Tzzt/OrNcsK0OyE0wmFUpfEgyZ/jFYf2nT2l2eDm7jJzh0QQP+r5         RUnw=='},\n",
       "   {'name': 'X-Gm-Message-State',\n",
       "    'value': 'AOJu0YyFU6Wba8WuRwzKSq/x/GQy5B+mGqOxojYLuSqpBTfkGv8rv7q5 EI+jRTBqkLwcvnp18glpumWCyIPwJJh7G2ArNoxU'},\n",
       "   {'name': 'X-Google-Smtp-Source',\n",
       "    'value': 'AGHT+IFZsaQx/uZwYlIGCqFrPmB3sdKnGAUKP7dncQGpXFFKo6kMjAMaD+YigneEdxhA0Wf9twdfOgpgGDnA3nIb6jfM'},\n",
       "   {'name': 'MIME-Version', 'value': '1.0'},\n",
       "   {'name': 'X-Received',\n",
       "    'value': 'by 2002:a92:d1c9:0:b0:359:492f:698a with SMTP id u9-20020a92d1c9000000b00359492f698amr15534740ilg.26.1699261626456; Mon, 06 Nov 2023 01:07:06 -0800 (PST)'},\n",
       "   {'name': 'Date', 'value': 'Mon, 06 Nov 2023 01:07:06 -0800'},\n",
       "   {'name': 'X-Notifications',\n",
       "    'value': 'NEW_ANNOUNCEMENT:633814382632:637243428417-1699261589412'},\n",
       "   {'name': 'X-Notifications-Bounce-Info',\n",
       "    'value': 'AaJ7rEosCtlc9qGoHd0rKdOk20arZNAacjx61EUGh-3S0syWv7pYTHnGA-p8UQYc6HhnKZVYSD9NJ4jWRzz6g2_Fa5_WtT8T4Bxo2kQh4lzmoXIXOtfP2foe1C6KlP3rx_JMGOLkN7hEXGk6ovDU3pc36l0vc8suN_UDXfAK0pa1Xkkc2RlR7W1zEaheai1AObiai3KvRo9C9VmivajdAY-__Lp1UAvkqFS9H7evsdO4DPy71ntVrU6UtY95k1L2o4WmNjAwNjA0MDQxNTM1NTk2OTMzMg'},\n",
       "   {'name': 'Message-ID',\n",
       "    'value': '<uapWsmByOq7E12tOtMhJDQ@notifications.google.com>'},\n",
       "   {'name': 'Subject',\n",
       "    'value': 'Nuevo anuncio: \"Estimado alumno.\\r\\n\\r\\nTe adjuntamos las…\"'},\n",
       "   {'name': 'From',\n",
       "    'value': '\"MIDE y Vencerás (Classroom)\" <no-reply@classroom.google.com>'},\n",
       "   {'name': 'To', 'value': 'alvarosaezsanchez@gmail.com'},\n",
       "   {'name': 'Content-Type',\n",
       "    'value': 'multipart/alternative; boundary=\"000000000000a020010609782d48\"'}],\n",
       "  'body': {'size': 0},\n",
       "  'parts': [{'partId': '0',\n",
       "    'mimeType': 'text/plain',\n",
       "    'filename': '',\n",
       "    'headers': [{'name': 'Content-Type',\n",
       "      'value': 'text/plain; charset=\"UTF-8\"; format=flowed; delsp=yes'},\n",
       "     {'name': 'Content-Transfer-Encoding', 'value': 'base64'}],\n",
       "    'body': {'size': 1927,\n",
       "     'data': 'DQpBanVzdGVzIGRlIG5vdGlmaWNhY2lvbmVzICANCjxodHRwczovL2FjY291bnRzLmdvb2dsZS5jb20vQWNjb3VudENob29zZXI_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'}},\n",
       "   {'partId': '1',\n",
       "    'mimeType': 'text/html',\n",
       "    'filename': '',\n",
       "    'headers': [{'name': 'Content-Type',\n",
       "      'value': 'text/html; charset=\"UTF-8\"'},\n",
       "     {'name': 'Content-Transfer-Encoding', 'value': 'quoted-printable'}],\n",
       "    'body': {'size': 15568,\n",
       "     'data': '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'}}]},\n",
       " 'sizeEstimate': 25256,\n",
       " 'historyId': '5993038',\n",
       " 'internalDate': '1699261626000'}"
      ]
     },
     "execution_count": 69,
     "metadata": {},
     "output_type": "execute_result"
    }
   ],
   "source": [
    "txt"
   ]
  },
  {
   "cell_type": "markdown",
   "id": "7d6d23af-f636-4082-a99d-fe88e6675a0f",
   "metadata": {},
   "source": [
    "------------------------"
   ]
  },
  {
   "cell_type": "code",
   "execution_count": 73,
   "id": "2ce8dd83-7457-43ec-a22d-182f2b828e21",
   "metadata": {},
   "outputs": [],
   "source": [
    "response2 = service.users().messages().list(userId='me', q=f'subject:test gmail csv').execute()\n",
    "messages2 = response2.get('messages')"
   ]
  },
  {
   "cell_type": "code",
   "execution_count": 74,
   "id": "d1a4e26c-9b72-4a4c-8cda-bcb957774a1e",
   "metadata": {},
   "outputs": [
    {
     "data": {
      "text/plain": [
       "[{'id': '18c1b2b9b9257cb3', 'threadId': '18c1b2b2ef01d93d'},\n",
       " {'id': '18c1ae8bcff0d28c', 'threadId': '18c1ae886f268167'}]"
      ]
     },
     "execution_count": 74,
     "metadata": {},
     "output_type": "execute_result"
    }
   ],
   "source": [
    "messages2"
   ]
  },
  {
   "cell_type": "code",
   "execution_count": 75,
   "id": "77a5f26f-48ab-46f6-ac9d-d3753e736ac2",
   "metadata": {},
   "outputs": [],
   "source": [
    "for msg in messages2: \n",
    "    # Get the message from its id \n",
    "    txt = service.users().messages().get(userId='me', id=msg['id']).execute()"
   ]
  },
  {
   "cell_type": "code",
   "execution_count": 76,
   "id": "c4cf086f-c55b-478f-bde7-37ff94e3ed62",
   "metadata": {},
   "outputs": [
    {
     "data": {
      "text/plain": [
       "{'id': '18c1ae8bcff0d28c',\n",
       " 'threadId': '18c1ae886f268167',\n",
       " 'labelIds': ['IMPORTANT', 'SENT', 'INBOX'],\n",
       " 'snippet': '',\n",
       " 'payload': {'partId': '',\n",
       "  'mimeType': 'multipart/mixed',\n",
       "  'filename': '',\n",
       "  'headers': [{'name': 'MIME-Version', 'value': '1.0'},\n",
       "   {'name': 'Date', 'value': 'Wed, 29 Nov 2023 12:47:52 +0100'},\n",
       "   {'name': 'Message-ID',\n",
       "    'value': '<CANFxmwZG6NJu-D6Jg1yEBD_SBNWF2XZ081ueMhHbcAz7M7JskQ@mail.gmail.com>'},\n",
       "   {'name': 'Subject', 'value': 'test gmail csv'},\n",
       "   {'name': 'From', 'value': 'Alv Sz <alvarosaezsanchez@gmail.com>'},\n",
       "   {'name': 'To', 'value': 'Alv Sz <alvarosaezsanchez@gmail.com>'},\n",
       "   {'name': 'Content-Type',\n",
       "    'value': 'multipart/mixed; boundary=\"0000000000001d3aac060b491d55\"'}],\n",
       "  'body': {'size': 0},\n",
       "  'parts': [{'partId': '0',\n",
       "    'mimeType': 'multipart/alternative',\n",
       "    'filename': '',\n",
       "    'headers': [{'name': 'Content-Type',\n",
       "      'value': 'multipart/alternative; boundary=\"0000000000001d3aaa060b491d53\"'}],\n",
       "    'body': {'size': 0},\n",
       "    'parts': [{'partId': '0.0',\n",
       "      'mimeType': 'text/plain',\n",
       "      'filename': '',\n",
       "      'headers': [{'name': 'Content-Type',\n",
       "        'value': 'text/plain; charset=\"UTF-8\"'}],\n",
       "      'body': {'size': 2, 'data': 'DQo='}},\n",
       "     {'partId': '0.1',\n",
       "      'mimeType': 'text/html',\n",
       "      'filename': '',\n",
       "      'headers': [{'name': 'Content-Type',\n",
       "        'value': 'text/html; charset=\"UTF-8\"'}],\n",
       "      'body': {'size': 27, 'data': 'PGRpdiBkaXI9Imx0ciI-PGJyPjwvZGl2Pg0K'}}]},\n",
       "   {'partId': '1',\n",
       "    'mimeType': 'text/csv',\n",
       "    'filename': 'cars.csv',\n",
       "    'headers': [{'name': 'Content-Type',\n",
       "      'value': 'text/csv; charset=\"US-ASCII\"; name=\"cars.csv\"'},\n",
       "     {'name': 'Content-Disposition',\n",
       "      'value': 'attachment; filename=\"cars.csv\"'},\n",
       "     {'name': 'Content-Transfer-Encoding', 'value': 'base64'},\n",
       "     {'name': 'X-Attachment-Id', 'value': 'f_lpjpcywt0'},\n",
       "     {'name': 'Content-ID', 'value': '<f_lpjpcywt0>'}],\n",
       "    'body': {'attachmentId': 'ANGjdJ9jhPqoDRqd76Xfh7eCUyKHvl3ED9umVP6Amlg0bt8FndeBCtrb-p7z0uA1dxfMekQUVjOqqSSjfb_ATGASkAHVBaoGEFgDU2zXpNaJi4GeZcZHfdy2mOaypkyklKBvgd4aCIFQf0IHUWHejbC0aPWJO51lRFXFprdcJt88zOppv1TqtgLWB-p9o5DrbCDNCTX7hRH3C0i0EEjrH2WGQ2RT8hbC9CcK9Qap6KsdCuKEBctx8VLimewFXt_mHGfHPtSOuQacS1YnzJvdWqCGwqgBsGzcMHjm_Z2Xakp5yg0lxO34EYNw1-PCD7w',\n",
       "     'size': 1783}}]},\n",
       " 'sizeEstimate': 3374,\n",
       " 'historyId': '6023220',\n",
       " 'internalDate': '1701258472000'}"
      ]
     },
     "execution_count": 76,
     "metadata": {},
     "output_type": "execute_result"
    }
   ],
   "source": [
    "txt"
   ]
  },
  {
   "cell_type": "code",
   "execution_count": null,
   "id": "d8698c9e-b9d3-4e51-88e9-ceef79b9a5a2",
   "metadata": {},
   "outputs": [],
   "source": []
  }
 ],
 "metadata": {
  "kernelspec": {
   "display_name": "Python 3 (ipykernel)",
   "language": "python",
   "name": "python3"
  },
  "language_info": {
   "codemirror_mode": {
    "name": "ipython",
    "version": 3
   },
   "file_extension": ".py",
   "mimetype": "text/x-python",
   "name": "python",
   "nbconvert_exporter": "python",
   "pygments_lexer": "ipython3",
   "version": "3.9.0"
  }
 },
 "nbformat": 4,
 "nbformat_minor": 5
}
