{
 "cells": [
  {
   "cell_type": "code",
   "execution_count": 1,
   "id": "09ae12bd-42ba-49c6-991d-0d8faf487a08",
   "metadata": {},
   "outputs": [],
   "source": [
    "#import poplib\n",
    "#from email.parser import Parser\n",
    "\n",
    "import imaplib\n",
    "import email\n",
    "from email.header import decode_header\n",
    "\n",
    "import os\n",
    "from datetime import datetime, timedelta\n",
    "import re\n",
    "import json\n",
    "\n",
    "from google.cloud import secretmanager\n",
    "from google.oauth2.service_account import Credentials"
   ]
  },
  {
   "cell_type": "code",
   "execution_count": 19,
   "id": "a14bcb99-7ddf-4721-807a-97c6a3791641",
   "metadata": {},
   "outputs": [],
   "source": [
    "# variables de configuración\n",
    "env = \"DEV\"\n",
    "config_file = open('../config/general_config_' + env + '.json')\n",
    "config_file = json.load(config_file)\n",
    "## gmail\n",
    "#email_user = config_file['gmail']['email_user'] #la obtendremos del secret manager\n",
    "#email_pass = config_file['gmail']['email_pass'] #la obtendremos del secret manager\n",
    "imap4_sll_type = config_file['gmail']['imap4_sll_type']\n",
    "download_path = config_file['gmail']['download_path']\n",
    "\n",
    "#variables secret manager\n",
    "project_id = config_file['bigquery']['project_id']\n",
    "secret_id_pass = config_file['secretmanager']['gmail_pass']\n",
    "secret_id_name = config_file['secretmanager']['gmail_account']\n",
    "secret_id= secret_id_pass\n",
    "\n",
    "##variables de búsqueda de gmail\n",
    "email_labels = config_file['gmail']['email_labels']\n",
    "email_sender = config_file['gmail']['email_sender']\n",
    "email_query_timedelta_days = config_file['gmail']['email_query_timedelta_days']\n",
    "date_since_range = (datetime.now() - timedelta(days=email_query_timedelta_days)).strftime(\"%d-%b-%Y\") #desde ayer\n",
    "date_today = datetime.now().strftime(\"%d-%b-%Y\")\n",
    "email_subject = config_file['gmail']['email_subject']\n",
    "email_attached_file = config_file['gmail']['email_attached_file']"
   ]
  },
  {
   "cell_type": "code",
   "execution_count": 23,
   "id": "ccb13f43-258a-4ba6-9869-57121c3f6782",
   "metadata": {},
   "outputs": [],
   "source": [
    "#conexión al secret manager\n",
    "def get_secret(project_id, secret_id, credentials_path, version_id=\"latest\"):\n",
    "    try:\n",
    "        creds = Credentials.from_service_account_file(credentials_path)\n",
    "        client = secretmanager.SecretManagerServiceClient(credentials = creds)\n",
    "    except FileNotFoundError:\n",
    "        client = secretmanager.SecretManagerServiceClient()\n",
    "    secret_name_chosen = f\"projects/{project_id}/secrets/{secret_id}/versions/{version_id}\"\n",
    "    try:\n",
    "        response = client.access_secret_version(name=secret_name_chosen)\n",
    "        return response.payload.data.decode('UTF-8')\n",
    "    except Exception as e:\n",
    "        print('SecretManager Error: ' + e)\n",
    "        return None\n",
    "    \n",
    "email_user = get_secret(project_id, secret_id_name, credentials_path, version_id=\"latest\")\n",
    "email_pass = get_secret(project_id, secret_id_pass, credentials_path, version_id=\"latest\")"
   ]
  },
  {
   "cell_type": "code",
   "execution_count": 5,
   "id": "9ad666ad-8093-4870-902c-61b8620ddbde",
   "metadata": {},
   "outputs": [],
   "source": [
    "# Conexión al servidor IMAP de Gmail y la cuenta de gmail\n",
    "def gmail_imaplib_conexion(email_user, email_pass, imap4_sll_type):\n",
    "    try:\n",
    "        mail = imaplib.IMAP4_SSL(imap4_sll_type)\n",
    "        mail.login(email_user, email_pass)\n",
    "        return mail\n",
    "    except Exception as e:\n",
    "        print(e)\n",
    "\n",
    "mail = gmail_imaplib_conexion(email_user, email_pass, imap4_sll_type)"
   ]
  },
  {
   "cell_type": "code",
   "execution_count": 6,
   "id": "142830c7-8cde-4164-91e1-8c4a8992f74a",
   "metadata": {},
   "outputs": [],
   "source": [
    "def gmail_label_list(mail):\n",
    "    try:\n",
    "        label_list = [str(i).split(\"\\\"/\\\" \\\"\")[1].split(\"\\\"\\'\")[0] for i in mail.list()[1]]\n",
    "        return label_list\n",
    "    except Exception as e:\n",
    "        print(e)\n",
    "label_list = gmail_label_list(mail)"
   ]
  },
  {
   "cell_type": "code",
   "execution_count": 7,
   "id": "e4cf7734-75c7-480c-9a43-18aee8323d31",
   "metadata": {},
   "outputs": [],
   "source": [
    "# selección del buzón deseado de gmail\n",
    "def gmail_label_selected(mail, email_labels):\n",
    "    try:\n",
    "        for i in email_labels:\n",
    "            label_selected = mail.select(i)\n",
    "        #return mail.select(i)\n",
    "    except Exception as e:\n",
    "        print(e)\n",
    "\n",
    "gmail_label_selected(mail, email_labels)"
   ]
  },
  {
   "cell_type": "code",
   "execution_count": 8,
   "id": "8c9a3d6d-5b7f-4f0a-9a17-83482b95616e",
   "metadata": {},
   "outputs": [],
   "source": [
    "def gmail_serach_query_creator(email_sender, date_since_range, email_subject, email_attached_file):\n",
    "    gmail_query = f'(UNSEEN' \n",
    "    if email_sender and email_sender != \"\":\n",
    "        gmail_query += f' FROM \"{email_sender}\"'\n",
    "    if date_since_range and date_since_range != \"\":\n",
    "        gmail_query += f' SINCE \"{date_since_range}\"'\n",
    "    if email_subject and email_subject !=\"\":\n",
    "        gmail_query += f' SUBJECT \"{email_subject}\"'\n",
    "    if email_attached_file and email_attached_file !=\"\":\n",
    "        gmail_query += f' TEXT \"{email_attached_file}\"' \n",
    "    gmail_query += ')'\n",
    "    return gmail_query\n",
    "\n",
    "gmail_query = gmail_serach_query_creator(email_sender, date_since_range, email_subject, email_attached_file)"
   ]
  },
  {
   "cell_type": "code",
   "execution_count": 9,
   "id": "423bdad6-bcbd-4825-90a2-8837684c6092",
   "metadata": {},
   "outputs": [],
   "source": [
    "def gmail_search_emails_status(gmail_query):\n",
    "    try:\n",
    "        status, messages_id = mail.search(None,gmail_query)\n",
    "        return status\n",
    "    except Exception as e:\n",
    "        print(e)\n",
    "        \n",
    "def gmail_search_emails_messages_id(gmail_query):\n",
    "    try:\n",
    "        status, messages_id = mail.search(None,gmail_query)\n",
    "        return messages_id[0].split()\n",
    "    except Exception as e:\n",
    "        print(e)\n",
    "        \n",
    "status = gmail_search_emails_status(gmail_query)\n",
    "messages_id = gmail_search_emails_messages_id(gmail_query)"
   ]
  },
  {
   "cell_type": "code",
   "execution_count": 14,
   "id": "19940b0b-15b7-469e-8633-51654c89f1cb",
   "metadata": {},
   "outputs": [],
   "source": [
    "def email_read(messages_id, download_path):\n",
    "    if messages_id == []:\n",
    "        print(\"no messages in this query\")\n",
    "    try:\n",
    "        for message_id in messages_id:\n",
    "            # Obtiene el correo electrónico con el ID\n",
    "            message_id_type, message_data = mail.fetch(message_id, \"(RFC822)\")\n",
    "            for response_part in message_data:\n",
    "                if isinstance(response_part, tuple):\n",
    "                    # Parsea el mensaje utilizando la librería email\n",
    "                    email_message = email.message_from_bytes(response_part[1])\n",
    "        \n",
    "                    # Obtiene el asunto y el remitente\n",
    "                    subject, encoding = decode_header(email_message[\"Subject\"])[0]\n",
    "                    if isinstance(subject, bytes):\n",
    "                        subject = subject.decode(encoding if encoding else \"utf-8\")\n",
    "                    from_, encoding = decode_header(email_message.get(\"From\"))[0]\n",
    "                    if isinstance(from_, bytes):\n",
    "                        from_ = from_.decode(encoding if encoding else \"utf-8\")\n",
    "        \n",
    "                    # Imprime el asunto y el remitente\n",
    "                    print(\"From:\", from_)\n",
    "                    print(\"Subject:\", subject)\n",
    "        \n",
    "                    # Si el mensaje es multipart (contiene partes diferentes, como texto y adjuntos)\n",
    "                    if email_message.is_multipart():\n",
    "                        for part in email_message.walk():\n",
    "                            if part.get_content_type() == \"text/plain\":\n",
    "                                body = part.get_payload(decode=True)\n",
    "                                print(\"Body:\", body.decode(\"utf-8\"))\n",
    "                            else:\n",
    "                                # Guarda el archivo en la carpeta local\n",
    "                                filename = part.get_filename()\n",
    "                                if filename:\n",
    "                                    filepath = os.path.join(download_path, filename)\n",
    "                                    with open(filepath, \"wb\") as f:\n",
    "                                        f.write(part.get_payload(decode=True))\n",
    "                                    print(f\"File saved in: {filepath}\")\n",
    "                                    print(f\"Next email \\n\\n\")\n",
    "        # Cierra la conexión con el servidor IMAP\n",
    "        mail.logout()\n",
    "        \n",
    "    except Exception as e:\n",
    "        print(e)\n"
   ]
  },
  {
   "cell_type": "code",
   "execution_count": 15,
   "id": "baa537e4-53bf-42d4-a336-39bbd923b185",
   "metadata": {},
   "outputs": [
    {
     "name": "stdout",
     "output_type": "stream",
     "text": [
      "From: Alv Sz <alvarosaezsanchez@gmail.com>\n",
      "Subject: test gmail excel\n",
      "Body: test gmail excel\n",
      "\n",
      "File saved in: ../files\\GEO_IP_1_comb (1).xlsx\n",
      "Next email \n",
      "\n",
      "\n",
      "From: Alv Sz <alvarosaezsanchez@gmail.com>\n",
      "Subject: test gmail excel\n",
      "Body: \n",
      "\n",
      "File saved in: ../files\\GEO_IP_1_comb (1).xlsx\n",
      "Next email \n",
      "\n",
      "\n"
     ]
    }
   ],
   "source": [
    "email_read(messages_id, download_path)"
   ]
  },
  {
   "cell_type": "code",
   "execution_count": null,
   "id": "abf56c3c-0557-407d-a64c-74214b7ff29a",
   "metadata": {},
   "outputs": [],
   "source": []
  }
 ],
 "metadata": {
  "kernelspec": {
   "display_name": "Python 3 (ipykernel)",
   "language": "python",
   "name": "python3"
  },
  "language_info": {
   "codemirror_mode": {
    "name": "ipython",
    "version": 3
   },
   "file_extension": ".py",
   "mimetype": "text/x-python",
   "name": "python",
   "nbconvert_exporter": "python",
   "pygments_lexer": "ipython3",
   "version": "3.9.18"
  }
 },
 "nbformat": 4,
 "nbformat_minor": 5
}
