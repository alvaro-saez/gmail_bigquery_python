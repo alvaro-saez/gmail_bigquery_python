{
 "cells": [
  {
   "cell_type": "code",
   "execution_count": 1,
   "id": "3589bdba-a295-445b-92ed-5bd72311b7bb",
   "metadata": {},
   "outputs": [],
   "source": [
    "from google.oauth2.credentials import Credentials\n",
    "from google_auth_oauthlib.flow import InstalledAppFlow\n",
    "from google.auth.transport.requests import Request\n",
    "from googleapiclient.discovery import build\n",
    "from googleapiclient.errors import HttpError\n",
    "import pickle \n",
    "import base64 \n",
    "import os\n",
    "from datetime import datetime\n",
    "from datetime import datetime, timedelta"
   ]
  },
  {
   "cell_type": "code",
   "execution_count": 2,
   "id": "9b449063-3c11-44f1-b60c-2c44c373b80e",
   "metadata": {},
   "outputs": [],
   "source": [
    "SCOPES = [\"https://mail.google.com/\", \"https://www.googleapis.com/auth/drive.readonly\", \"https://www.googleapis.com/auth/gmail.modify\"]#\"https://www.googleapis.com/auth/gmail.send\",'https://www.googleapis.com/auth/gmail.readonly','https://mail.google.com/', \"https://www.googleapis.com/auth/gmail.metadata\", \"https://www.googleapis.com/auth/gmail.modify\"]\n",
    "gmail_client_secret_file = './credenciales/client_secret_python_gmail.json'"
   ]
  },
  {
   "cell_type": "markdown",
   "id": "9ef9ff5c-9d44-4138-9cbb-0343e32ccc80",
   "metadata": {},
   "source": [
    "## conexion"
   ]
  },
  {
   "cell_type": "code",
   "execution_count": 3,
   "id": "fff4a428-3b9a-44a3-9fd7-6a9626f02b25",
   "metadata": {},
   "outputs": [],
   "source": [
    "def conexion_gmail_api(SCOPES,gmail_client_secret_file):\n",
    "    creds = None\n",
    "    # El archivo token.pickle almacena los tokens de acceso y actualización del usuario, y se\n",
    "    # crea automáticamente cuando el flujo de autorización se completa por primera vez.\n",
    "    if os.path.exists('token.pickle'):\n",
    "        with open('token.pickle', 'rb') as token:\n",
    "            creds = pickle.load(token)\n",
    "    # Si no hay credenciales disponibles o son inválidas, pide al usuario que se loguee.\n",
    "    if not creds or not creds.valid:\n",
    "        if creds and creds.expired and creds.refresh_token:\n",
    "            creds.refresh(Request())\n",
    "        else:\n",
    "            flow = InstalledAppFlow.from_client_secrets_file(\n",
    "                gmail_client_secret_file, SCOPES)\n",
    "            creds = flow.run_local_server(port=0)\n",
    "        # Guarda las credenciales para la próxima ejecución\n",
    "        with open('token.pickle', 'wb') as token:\n",
    "            pickle.dump(creds, token)\n",
    "\n",
    "    service = build('gmail', 'v1', credentials=creds)\n",
    "    return service"
   ]
  },
  {
   "cell_type": "code",
   "execution_count": 4,
   "id": "1653587c-92aa-4ae3-b606-92522652000d",
   "metadata": {},
   "outputs": [],
   "source": [
    "service = conexion_gmail_api(SCOPES,gmail_client_secret_file)"
   ]
  },
  {
   "cell_type": "markdown",
   "id": "af771b14-be0e-46e6-b49c-8bd232b55bf3",
   "metadata": {},
   "source": [
    "##### si se va a ejecutarel código en una máquina virtual de google cloud las credenciales se harán de la siguiente manera"
   ]
  },
  {
   "cell_type": "code",
   "execution_count": 5,
   "id": "ac2e6c27-84bd-406d-8c93-26ff94152a32",
   "metadata": {},
   "outputs": [
    {
     "data": {
      "text/plain": [
       "\"\\n# Configuración de credenciales del servicio de Google Cloud\\ncredentials = Credentials.from_service_account_file(\\n    'ruta/de/tu/credencial-de-servicio.json',  # Reemplaza con la ruta de tus credenciales JSON alojada en la VM\\n    scopes=SCOPES\\n)\\n\\n# Obtención de las credenciales del usuario (esto abrirá una ventana del navegador para autenticación) es como está ahora\\nflow = InstalledAppFlow.from_client_secrets_file(\\n    'credentials.json',  # Reemplaza con la ruta de tu archivo de credenciales de la aplicación\\n    scopes=SCOPES\\n)\\ncredentials = flow.run_local_server(port=0)\\n\\n# Construcción del servicio de la API de Gmail\\nservice = build('gmail', 'v1', credentials=credentials)\\n\""
      ]
     },
     "execution_count": 5,
     "metadata": {},
     "output_type": "execute_result"
    }
   ],
   "source": [
    "\"\"\"\n",
    "# Configuración de credenciales del servicio de Google Cloud\n",
    "credentials = Credentials.from_service_account_file(\n",
    "    'ruta/de/tu/credencial-de-servicio.json',  # Reemplaza con la ruta de tus credenciales JSON alojada en la VM\n",
    "    scopes=SCOPES\n",
    ")\n",
    "\n",
    "# Obtención de las credenciales del usuario (esto abrirá una ventana del navegador para autenticación) es como está ahora\n",
    "flow = InstalledAppFlow.from_client_secrets_file(\n",
    "    'credentials.json',  # Reemplaza con la ruta de tu archivo de credenciales de la aplicación\n",
    "    scopes=SCOPES\n",
    ")\n",
    "credentials = flow.run_local_server(port=0)\n",
    "\n",
    "# Construcción del servicio de la API de Gmail\n",
    "service = build('gmail', 'v1', credentials=credentials)\n",
    "\"\"\""
   ]
  },
  {
   "cell_type": "code",
   "execution_count": 6,
   "id": "ff3b45c8-61df-43f9-aff4-c288ebf3fae3",
   "metadata": {},
   "outputs": [
    {
     "data": {
      "text/plain": [
       "\"\\n# Configuración de credenciales del servicio de Google Cloud\\ncredentials = Credentials.from_service_account_file(\\n    'ruta/de/tu/credencial-de-servicio.json',  # Reemplaza con la ruta de tus credenciales JSON\\n    scopes=SCOPES\\n)\\n\\n# Obtención de las credenciales del usuario. Esto cambiará el flujo de autenticación y evitará la apertura de la ventana emergente en el navegador. En cambio, mostrará un enlace en la consola que el usuario puede seguir para dar permisos manualmente.\\nflow = InstalledAppFlow.from_client_secrets_file(\\n    'credentials.json',  # Reemplaza con la ruta de tu archivo de credenciales de la aplicación\\n    scopes=SCOPES\\n)\\n\\ncredentials = flow.run_console()\\n\\n# Construcción del servicio de la API de Gmail\\nservice = build('gmail', 'v1', credentials=credentials)\\n\""
      ]
     },
     "execution_count": 6,
     "metadata": {},
     "output_type": "execute_result"
    }
   ],
   "source": [
    "\"\"\"\n",
    "# Configuración de credenciales del servicio de Google Cloud\n",
    "credentials = Credentials.from_service_account_file(\n",
    "    'ruta/de/tu/credencial-de-servicio.json',  # Reemplaza con la ruta de tus credenciales JSON\n",
    "    scopes=SCOPES\n",
    ")\n",
    "\n",
    "# Obtención de las credenciales del usuario. Esto cambiará el flujo de autenticación y evitará la apertura de la ventana emergente en el navegador. En cambio, mostrará un enlace en la consola que el usuario puede seguir para dar permisos manualmente.\n",
    "flow = InstalledAppFlow.from_client_secrets_file(\n",
    "    'credentials.json',  # Reemplaza con la ruta de tu archivo de credenciales de la aplicación\n",
    "    scopes=SCOPES\n",
    ")\n",
    "\n",
    "credentials = flow.run_console()\n",
    "\n",
    "# Construcción del servicio de la API de Gmail\n",
    "service = build('gmail', 'v1', credentials=credentials)\n",
    "\"\"\""
   ]
  },
  {
   "cell_type": "markdown",
   "id": "6671572b-26a5-4205-8f65-47a186787a50",
   "metadata": {},
   "source": [
    "## requests"
   ]
  },
  {
   "cell_type": "markdown",
   "id": "8c94183a-565d-4fcd-97ae-47a2844d3794",
   "metadata": {},
   "source": [
    "### obtener campos del email"
   ]
  },
  {
   "cell_type": "markdown",
   "id": "a642bd32-e7c9-48ce-8144-02399f3831d9",
   "metadata": {},
   "source": [
    "##### Queries para poner dentro del method list (como en el siguiente ejemplo de subject):\n",
    "  - subject:\n",
    "  - from:\n",
    "  - to:\n",
    "  - cc:\n",
    "  - bcc:\n",
    "  - label:\n",
    "  - has:attachment\n",
    "  - has:drive\n",
    "  - has:document\n",
    "  - has:spreadsheet\n",
    "  - has:presentation\n",
    "  - filename:\n",
    "  - newer_than:2d\n",
    "  - deliveredto:\n",
    "  - OR or { }: --> from:amy OR from:david\n",
    "\n",
    "https://support.google.com/mail/answer/7190?hl=en    --> All the terms and REGEXtation"
   ]
  },
  {
   "cell_type": "markdown",
   "id": "2bbe9604-fc41-40bf-8d28-70639a64cc2f",
   "metadata": {},
   "source": [
    "### adjuntos"
   ]
  },
  {
   "cell_type": "code",
   "execution_count": 9,
   "id": "af1625e5-a191-47a2-bd07-5c0d78ac512f",
   "metadata": {},
   "outputs": [
    {
     "name": "stdout",
     "output_type": "stream",
     "text": [
      "File download in: ./files/GEO_IP_1_comb (1).xlsx\n",
      "Email mark as READ.\n"
     ]
    }
   ],
   "source": [
    "def mark_as_read(message_id):\n",
    "    try:\n",
    "        # Actualizar el estado del mensaje a leído\n",
    "        body = {'removeLabelIds': ['UNREAD']}\n",
    "        service.users().messages().modify(userId='me', id=message_id, body=body).execute()\n",
    "        print(f'Email mark as READ.')\n",
    "\n",
    "    except Exception as e:\n",
    "        print(f'Error to mark the email READ: {e}')\n",
    "\n",
    "def get_filtered_messages(subject_filter, unread_filter, sender_filter, start_date_filter, attachment_filter, attachment_file_type_filter):\n",
    "    try:\n",
    "        # Construcción de la consulta\n",
    "        query = f'is:'\n",
    "\n",
    "        if unread_filter:\n",
    "            query += f' {unread_filter}'\n",
    "\n",
    "        if subject_filter:\n",
    "            query += f' subject:{subject_filter}'\n",
    "        \n",
    "        if sender_filter:\n",
    "            query += f' from:{sender_filter}'\n",
    "\n",
    "        if start_date_filter:\n",
    "            formatted_date = datetime.strptime(start_date_filter, '%Y-%m-%d').strftime('%Y/%m/%d')\n",
    "            query += f' after:{formatted_date}'\n",
    "\n",
    "        if attachment_filter:\n",
    "            query += f' has:{attachment_filter}'\n",
    "\n",
    "        if attachment_file_type_filter:\n",
    "            query += f' filename:{attachment_file_type_filter}'\n",
    "\n",
    "        # Obtención de mensajes no leídos con los filtros aplicados\n",
    "        response = service.users().messages().list(userId='me', q=query).execute()\n",
    "        messages = response.get('messages', [])\n",
    "        if messages == []:\n",
    "            print('No emails in this query')\n",
    "\n",
    "        return messages\n",
    "\n",
    "    except Exception as e:\n",
    "        print(f'Error to obtain the emails from the query: {e}')\n",
    "        return []\n",
    "\n",
    "def download_attachment(message_id, attachment_name, save_path):\n",
    "    try:\n",
    "        # Obtención del mensaje\n",
    "        message = service.users().messages().get(userId='me', id=message_id).execute()\n",
    "\n",
    "        # Iteración sobre las partes del mensaje\n",
    "        for part in message['payload']['parts']:\n",
    "            if 'filename' in part and part['filename'] == attachment_name:\n",
    "                # Descarga del archivo adjunto\n",
    "                attachment = service.users().messages().attachments().get(\n",
    "                    userId='me', messageId=message_id, id=part['body']['attachmentId']\n",
    "                ).execute()\n",
    "\n",
    "                file_data = base64.urlsafe_b64decode(attachment['data'])\n",
    "\n",
    "                # Guardar el archivo en el sistema local\n",
    "                with open(save_path, 'wb') as f:\n",
    "                    f.write(file_data)\n",
    "\n",
    "                print(f'File download in: {save_path}')\n",
    "                mark_as_read(message_id)\n",
    "                return True\n",
    "\n",
    "        print(f'Attachmen not found: {attachment_name}')\n",
    "        return False\n",
    "\n",
    "    except Exception as e:\n",
    "        print(f'Error to download the file: {e}')\n",
    "        return False\n",
    "\n",
    "\n",
    "# Ejemplo de uso\n",
    "subject_filter = 'test gmail excel'  # Reemplazar con el asunto real del correo electrónico\n",
    "unread_filter = 'unread'\n",
    "sender_filter = 'alvarosaezsanchez@gmail.com'  # Reemplazar con el remitente real del correo electrónico\n",
    "start_date_filter = (datetime.now() - timedelta(days=10)).strftime(\"%Y-%m-%d\") #desde ayer\n",
    "save_path = './files/GEO_IP_1_comb (1).xlsx'  # Reemplazar con la ruta real de destino\n",
    "attachment_filter = 'attachment'\n",
    "attachment_file_type_filter = 'xlsx'\n",
    "attachment_name= 'GEO_IP_1_comb (1).xlsx'\n",
    "\n",
    "filtered_messages = get_filtered_messages(subject_filter, unread_filter, sender_filter, start_date_filter,attachment_filter,attachment_file_type_filter)\n",
    "\n",
    "for message in filtered_messages:\n",
    "    message_id = message['id']\n",
    "    download_attachment(message_id, attachment_name, save_path)"
   ]
  },
  {
   "cell_type": "code",
   "execution_count": null,
   "id": "de71571d-38b8-4fbd-a3f1-f48e63c1f9d3",
   "metadata": {},
   "outputs": [],
   "source": []
  }
 ],
 "metadata": {
  "kernelspec": {
   "display_name": "Python 3 (ipykernel)",
   "language": "python",
   "name": "python3"
  },
  "language_info": {
   "codemirror_mode": {
    "name": "ipython",
    "version": 3
   },
   "file_extension": ".py",
   "mimetype": "text/x-python",
   "name": "python",
   "nbconvert_exporter": "python",
   "pygments_lexer": "ipython3",
   "version": "3.9.18"
  }
 },
 "nbformat": 4,
 "nbformat_minor": 5
}
