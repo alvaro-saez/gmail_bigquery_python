{
 "cells": [
  {
   "cell_type": "code",
   "execution_count": 40,
   "id": "09ae12bd-42ba-49c6-991d-0d8faf487a08",
   "metadata": {},
   "outputs": [],
   "source": [
    "import poplib\n",
    "from email.parser import Parser\n",
    "\n",
    "import imaplib\n",
    "import email\n",
    "from email.header import decode_header\n",
    "\n",
    "import os\n",
    "from datetime import datetime, timedelta"
   ]
  },
  {
   "cell_type": "code",
   "execution_count": 44,
   "id": "18e8df5b-5c92-4b8b-8458-081fdeb471eb",
   "metadata": {},
   "outputs": [
    {
     "name": "stdout",
     "output_type": "stream",
     "text": [
      "01-Dec-2023\n",
      "Subject: test gmail excel\n",
      "From: Alv Sz <alvarosaezsanchez@gmail.com>\n",
      "Body: test gmail excel\n",
      "\n",
      "Archivo guardado en: ./files\\GEO_IP_1_comb (1).xlsx\n"
     ]
    },
    {
     "data": {
      "text/plain": [
       "('BYE', [b'LOGOUT Requested'])"
      ]
     },
     "execution_count": 44,
     "metadata": {},
     "output_type": "execute_result"
    }
   ],
   "source": [
    "# Configuración de la cuenta de Gmail\n",
    "email_user = \"alvarosaezsanchez@gmail.com\"\n",
    "email_pass = \"eham tafy idvf veby\"\n",
    "\n",
    "# Carpeta local para descargar archivos adjuntos\n",
    "download_folder = \"./files\"\n",
    "\n",
    "# Conexión al servidor IMAP de Gmail\n",
    "mail = imaplib.IMAP4_SSL(\"imap.gmail.com\")\n",
    "mail.login(email_user, email_pass)\n",
    "\n",
    "# Selecciona el buzón de entrada (inbox)\n",
    "mail.select(\"inbox\")\n",
    "\n",
    "# Construye la cadena de búsqueda con el remitente específico\n",
    "remitente_a_buscar = \"alvarosaezsanchez@gmail.com\"\n",
    "fecha_desde = (datetime.now() - timedelta(days=2)).strftime(\"%d-%b-%Y\") #desde ayer\n",
    "fecha_hoy = datetime.now().strftime(\"%d-%b-%Y\")\n",
    "asusto_a_buscar = \"test gmail csv\"\n",
    "nombre_adjunto_a_buscar = \"GEO_IP_1_comb (1).xlsx\"\n",
    "print(fecha_hoy)\n",
    "criterio_busqueda = f'(UNSEEN FROM \"{remitente_a_buscar}\" SINCE {fecha_desde}) TEXT \"{nombre_adjunto_a_buscar}\"' #ON {fecha_a_buscar}' SUBJECT \"{asunto_a_buscar}\"\n",
    "\n",
    "# Busca todos los correos no leídos\n",
    "status, messages = mail.search(None,criterio_busqueda)\n",
    "\n",
    "# Obtén los identificadores de los mensajes\n",
    "mail_ids = messages[0].split()\n",
    "\n",
    "for mail_id in mail_ids:\n",
    "    # Obtiene el correo electrónico con el ID\n",
    "    _, msg_data = mail.fetch(mail_id, \"(RFC822)\")\n",
    "    for response_part in msg_data:\n",
    "        if isinstance(response_part, tuple):\n",
    "            # Parsea el mensaje utilizando la librería email\n",
    "            email_message = email.message_from_bytes(response_part[1])\n",
    "\n",
    "            # Obtiene el asunto y el remitente\n",
    "            subject, encoding = decode_header(email_message[\"Subject\"])[0]\n",
    "            if isinstance(subject, bytes):\n",
    "                subject = subject.decode(encoding if encoding else \"utf-8\")\n",
    "            from_, encoding = decode_header(email_message.get(\"From\"))[0]\n",
    "            if isinstance(from_, bytes):\n",
    "                from_ = from_.decode(encoding if encoding else \"utf-8\")\n",
    "\n",
    "            # Imprime el asunto y el remitente\n",
    "            print(\"Subject:\", subject)\n",
    "            print(\"From:\", from_)\n",
    "\n",
    "            # Si el mensaje es multipart (contiene partes diferentes, como texto y adjuntos)\n",
    "            if email_message.is_multipart():\n",
    "                for part in email_message.walk():\n",
    "                    if part.get_content_type() == \"text/plain\":\n",
    "                        body = part.get_payload(decode=True)\n",
    "                        print(\"Body:\", body.decode(\"utf-8\"))\n",
    "                    else:\n",
    "                        # Guarda el archivo CSV en la carpeta local\n",
    "                        filename = part.get_filename()\n",
    "                        if filename:\n",
    "                            filepath = os.path.join(download_folder, filename)\n",
    "                            with open(filepath, \"wb\") as f:\n",
    "                                f.write(part.get_payload(decode=True))\n",
    "                            print(f\"Archivo guardado en: {filepath}\")\n",
    "\n",
    "# Cierra la conexión con el servidor IMAP\n",
    "mail.logout()"
   ]
  },
  {
   "cell_type": "code",
   "execution_count": null,
   "id": "abf56c3c-0557-407d-a64c-74214b7ff29a",
   "metadata": {},
   "outputs": [],
   "source": []
  }
 ],
 "metadata": {
  "kernelspec": {
   "display_name": "Python 3 (ipykernel)",
   "language": "python",
   "name": "python3"
  },
  "language_info": {
   "codemirror_mode": {
    "name": "ipython",
    "version": 3
   },
   "file_extension": ".py",
   "mimetype": "text/x-python",
   "name": "python",
   "nbconvert_exporter": "python",
   "pygments_lexer": "ipython3",
   "version": "3.9.0"
  }
 },
 "nbformat": 4,
 "nbformat_minor": 5
}
